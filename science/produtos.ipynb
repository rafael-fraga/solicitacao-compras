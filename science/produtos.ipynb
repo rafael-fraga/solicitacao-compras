{
 "cells": [
  {
   "cell_type": "code",
   "execution_count": 6,
   "metadata": {},
   "outputs": [],
   "source": [
    "import pandas as pd\n",
    "import requests, os\n",
    "from time import sleep"
   ]
  },
  {
   "cell_type": "code",
   "execution_count": 3,
   "metadata": {},
   "outputs": [],
   "source": [
    "# ## Apurar lista generalizada de produtos\n",
    "produtos = list()\n",
    "data = {'formato': 'json',\n",
    "        'token': '2b6fc7102240cedcc9166c43921ea73eea82b876',\n",
    "        'pesquisa': '',\n",
    "        'pagina': 1}\n",
    "while True:\n",
    "    session = requests.post(url='https://api.tiny.com.br/api2/produtos.pesquisa.php', data=data).json()\n",
    "    data['pagina'] += 1\n",
    "    try:\n",
    "        produtos += [x['produto'] for x in session['retorno']['produtos']]\n",
    "    except:\n",
    "        break\n",
    "produtos = pd.DataFrame(produtos)\n"
   ]
  },
  {
   "cell_type": "code",
   "execution_count": 5,
   "metadata": {},
   "outputs": [
    {
     "name": "stdout",
     "output_type": "stream",
     "text": [
      "['648086180', '623449734', '623449795', '623449782', '778208483', '646749750', '729652533', '638403161', '623449824', '623449837', '661843960', '758696627', '648672851', '670910547', '649329262', '623449851', '658487375', '733149637', '659216777', '623449865', '769645806', '648084274', '648084239', '623449886', '624885426', '688859025', '794606243', '623449902', '692081848', '623449926', '706381781', '623449932', '623449946', '670910540', '794828451', '773934587', '770209199', '778208038', '791977192', '663063892', '623449970', '744114547', '767806291', '799895288', '664322273', '638432052', '649087283', '623449997', '789712012', '623450013', '623502231', '623502244', '623502216', '623502221', '623502225', '623502184', '623502236', '649329268', '785293008', '623450189', '623450199', '800868965', '623450046', '623450182', '623450205', '623450210', '623450220', '682500784', '623450215', '804981063', '794827835', '779523033', '653960156', '634824164', '623450225', '623450236', '628882233', '583324320', '583324326', '583324348', '583324353', '583324361', '623450260', '623450243', '649329273', '623450269', '623450299', '623450312', '804677691', '623450286', '623450280', '786903341', '638379143', '623450327', '766299129', '623450340', '630551037', '623450354', '737002822', '774269426', '623450374', '733415440', '637005194', '795400098', '777807737', '626302922', '723855204', '623450496', '794829708', '801868011', '768983512', '623450527', '797788298', '778208806', '623450540', '744121546', '643787433', '769851535', '623450553', '777808809', '623450568', '687343884', '687345363', '623450585', '687338443', '647280665', '623450598', '661793389', '670935035', '742276662', '742282151', '742124738', '742121077', '583324417', '623450611', '623450624', '623450740', '623450753', '640758281', '623450765', '626670053', '692082492', '623585662', '638867885', '640758272', '583324439', '623450791', '647280670', '769175229', '623450804', '623450819', '623450836', '623450853']\n"
     ]
    }
   ],
   "source": [
    "# Filtrar produtos\n",
    "print(produtos['id'].to_list())"
   ]
  },
  {
   "cell_type": "code",
   "execution_count": 7,
   "metadata": {},
   "outputs": [
    {
     "name": "stdout",
     "output_type": "stream",
     "text": [
      "limite de requisições\n",
      "limite de requisições\n"
     ]
    }
   ],
   "source": [
    "\n",
    "# Apurar databaset completo de produtos\n",
    "produtos_completos = list()\n",
    "for id in produtos['id']:\n",
    "    data = {\n",
    "        'formato': 'json',\n",
    "        'token': '2b6fc7102240cedcc9166c43921ea73eea82b876',\n",
    "        'id': id\n",
    "    }\n",
    "    try:\n",
    "        produtos_completos += [requests.post(url='https://api.tiny.com.br/api2/produto.obter.php', data=data).json()['retorno']['produto']]\n",
    "    except:\n",
    "        print('limite de requisições')\n",
    "        sleep(60)\n",
    "        produtos_completos += [requests.post(url='https://api.tiny.com.br/api2/produto.obter.php', data=data).json()['retorno']['produto']]\n",
    "produtos_completos = pd.DataFrame(produtos_completos)\n"
   ]
  },
  {
   "cell_type": "code",
   "execution_count": 8,
   "metadata": {},
   "outputs": [],
   "source": [
    "\n",
    "# Filtragem de dados\n",
    "produtos_filtrados = produtos_completos[pd.DataFrame([produtos_completos['categoria'] == x for x in ['Bovinos', 'Suínos', 'Aves', 'Especiais']]).any()]\n",
    "produtos_filtrados = produtos_filtrados[produtos_filtrados['slug'] != '']\n"
   ]
  },
  {
   "cell_type": "code",
   "execution_count": 10,
   "metadata": {},
   "outputs": [
    {
     "name": "stdout",
     "output_type": "stream",
     "text": [
      "['623449734', '623449795', '623449782', '778208483', '646749750', '729652533', '638403161', '623449824', '623449837', '661843960', '649329262', '733149637', '659216777', '623449886', '623449902', '692081848', '623449926', '706381781', '623449932', '623449946', '794828451', '773934587', '770209199', '778208038', '791977192', '663063892', '623449970', '744114547', '767806291', '799895288', '664322273', '638432052', '623449997', '789712012', '623450013', '649329268', '785293008', '623450189', '623450199', '800868965', '623450046', '623450182', '623450205', '623450210', '623450220', '682500784', '623450215', '804981063', '794827835', '653960156', '634824164', '623450225', '623450236', '628882233', '804677691', '786903341', '638379143', '623450327', '766299129', '623450340', '630551037', '623450354', '737002822', '774269426', '623450374', '733415440', '637005194', '795400098', '777807737', '626302922', '723855204', '623450496', '794829708', '801868011', '768983512', '623450527', '797788298', '778208806', '623450540', '643787433', '769851535', '623450553', '777808809', '623450568', '687343884', '687345363', '623450585', '687338443', '647280665', '623450611', '623450624', '623450740', '623450753', '640758281', '623450765', '626670053', '692082492', '623585662', '638867885', '640758272', '623450791', '647280670', '769175229']\n"
     ]
    }
   ],
   "source": [
    "print(produtos_filtrados['id'].to_list())"
   ]
  },
  {
   "cell_type": "code",
   "execution_count": null,
   "metadata": {},
   "outputs": [],
   "source": [
    "\n",
    "# Limpeza de dados\n",
    "produtos_formatados = produtos_filtrados.drop(['preco', 'marca', 'preco_promocional', 'ncm', 'origem', 'gtin', 'gtin_embalagem', 'localizacao', 'peso_liquido', 'peso_bruto', 'estoque_maximo', 'id_fornecedor', 'codigo_fornecedor', 'codigo_pelo_fornecedor', 'unidade_por_caixa', 'preco_custo', 'preco_custo_medio', 'situacao', 'tipo', 'classe_ipi', 'valor_ipi_fixo', 'cod_lista_servicos', 'descricao_complementar', 'garantia', 'cest', 'obs', 'tipoVariacao', 'variacoes', 'idProdutoPai', 'sob_encomenda', 'dias_preparacao', 'tipoEmbalagem', 'alturaEmbalagem', 'comprimentoEmbalagem', 'larguraEmbalagem', 'diametroEmbalagem', 'categoria', 'anexos', 'imagens_externas', 'classe_produto', 'seo_title', 'seo_keywords', 'link_video', 'seo_description'], axis=1)\n",
    "produtos_formatados['unidade'] = produtos_formatados['unidade'].str.casefold()\n",
    "produtos_formatados['unidade'] = ['un' if x != 'kg' else 'kg' for x in produtos_formatados['unidade']]\n"
   ]
  },
  {
   "cell_type": "code",
   "execution_count": null,
   "metadata": {},
   "outputs": [],
   "source": [
    "\n",
    "# POST /produtos\n",
    "produtos_estoque = produtos_formatados\n",
    "estoque = list()\n",
    "for id in produtos_estoque['id']:\n",
    "    data = {\n",
    "        'formato': 'json',\n",
    "        'token': '2b6fc7102240cedcc9166c43921ea73eea82b876',\n",
    "        'id': id\n",
    "    }\n",
    "    try:\n",
    "        estoque += [requests.post(url='https://api.tiny.com.br/api2/produto.obter.estoque.php', data=data).json()['retorno']['produto']['saldo']]\n",
    "    except:\n",
    "        print('limite de requisições')\n",
    "        sleep(60)\n",
    "        estoque += [requests.post(url='https://api.tiny.com.br/api2/produto.obter.estoque.php', data=data).json()['retorno']['produto']]\n",
    "produtos_estoque['estoque'] = estoque"
   ]
  }
 ],
 "metadata": {
  "interpreter": {
   "hash": "ad2bdc8ecc057115af97d19610ffacc2b4e99fae6737bb82f5d7fb13d2f2c186"
  },
  "kernelspec": {
   "display_name": "Python 3.8.8 ('base')",
   "language": "python",
   "name": "python3"
  },
  "language_info": {
   "codemirror_mode": {
    "name": "ipython",
    "version": 3
   },
   "file_extension": ".py",
   "mimetype": "text/x-python",
   "name": "python",
   "nbconvert_exporter": "python",
   "pygments_lexer": "ipython3",
   "version": "3.8.8"
  },
  "orig_nbformat": 4
 },
 "nbformat": 4,
 "nbformat_minor": 2
}
