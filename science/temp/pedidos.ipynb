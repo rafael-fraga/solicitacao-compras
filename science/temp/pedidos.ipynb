{
 "cells": [
  {
   "cell_type": "code",
   "execution_count": 51,
   "metadata": {},
   "outputs": [],
   "source": [
    "import pandas as pd\n",
    "import numpy as np\n",
    "from datetime import datetime, timedelta, date\n",
    "import requests, os, json\n",
    "\n",
    "\n",
    "def dmy(date):\n",
    "  return date.strftime('%d/%m/%Y')\n",
    "\n",
    "def rdmy(date):\n",
    "  return datetime.strptime(date, '%d/%m/%Y')\n",
    "\n",
    "def week(date):\n",
    "  return datetime.strptime(date.split()[0], '%d/%m/%Y').isocalendar()[1]\n",
    "\n",
    "def rweek(week):\n",
    "  return dmy(date.fromisocalendar(datetime.today().year, week, day=1)) + ' à ' + dmy(date.fromisocalendar(datetime.today().year, week, day=1) + timedelta(4-datetime.today().weekday()))\n",
    "\n",
    " \n",
    "dir = os.getcwd()\n",
    "\n",
    "hoje = datetime.today()"
   ]
  },
  {
   "cell_type": "code",
   "execution_count": 52,
   "metadata": {},
   "outputs": [],
   "source": [
    "# Compras\n",
    "compras = json.loads(open('../data/pedido.json', 'r', encoding='utf').read())['produtos']\n",
    "compras = pd.DataFrame([x for x in compras])\n",
    "compras['valor'] = [str(x).replace(',', '') for x in compras['valor']]\n",
    "compras['valor'] = compras['valor'].astype('float')\n",
    "compras = pd.pivot_table(compras, values='valor', index='fornecedor', aggfunc='sum')"
   ]
  },
  {
   "cell_type": "code",
   "execution_count": 53,
   "metadata": {},
   "outputs": [],
   "source": [
    "# Prazos\n",
    "prazos = requests.get('http://127.0.0.1:5000/prazos').json()\n",
    "prazos = json.dumps(prazos, ensure_ascii=False).replace('Ã£', 'ã')\n",
    "prazos = json.loads(prazos)['prazos']\n",
    "prazos = pd.DataFrame([x for x in prazos])\n",
    "prazos.set_index('fornecedor', inplace=True)\n",
    "prazos = prazos[np.isin(prazos.index, compras.index)]\n",
    "prazos = prazos.replace(0, np.nan)\n",
    "prazos['n parcelas'] = [len(parcela.dropna()) for parcela in [prazos.loc[x] for x in prazos.index]]\n",
    "prazos.fillna(0, inplace=True)\n",
    "prazos = pd.DataFrame(prazos.values.astype(int), index=prazos.index, columns=prazos.columns)"
   ]
  },
  {
   "cell_type": "code",
   "execution_count": 54,
   "metadata": {},
   "outputs": [],
   "source": [
    "# Agenda\n",
    "agenda = prazos.join(compras)\n",
    "agenda['valor'] /= agenda['n parcelas']\n",
    "agenda = agenda.reset_index().melt(id_vars=['valor', 'fornecedor', 'n parcelas'], var_name='parcela')\n",
    "agenda.set_index('fornecedor', inplace=True)\n",
    "agenda = agenda[agenda['value'] != 0]\n",
    "agenda['data'] = [hoje + timedelta(x) for x in agenda['value']]\n",
    "agenda.drop(['n parcelas', 'value'], axis=1, inplace=True)"
   ]
  },
  {
   "cell_type": "code",
   "execution_count": 55,
   "metadata": {},
   "outputs": [],
   "source": [
    "# Peso\n",
    "peso = pd.pivot_table(agenda, index='data', values='valor', aggfunc='sum')"
   ]
  },
  {
   "cell_type": "code",
   "execution_count": 56,
   "metadata": {},
   "outputs": [],
   "source": [
    "# Token Tiny ERP\n",
    "token = '2b6fc7102240cedcc9166c43921ea73eea82b876'\n",
    "\n"
   ]
  },
  {
   "cell_type": "code",
   "execution_count": 57,
   "metadata": {},
   "outputs": [],
   "source": [
    "# Vendas\n",
    "vendas = list()\n",
    "data = {'formato': 'json',\n",
    "        'token': token,\n",
    "        'dataInicial': dmy(hoje - timedelta(weeks=8)),\n",
    "        'pagina': 1}\n",
    "while True:\n",
    "  session = requests.post(url='https://api.tiny.com.br/api2/pedidos.pesquisa.php', data=data).json()\n",
    "  data['pagina'] += 1\n",
    "  try:\n",
    "    vendas += [x['pedido'] for x in session['retorno']['pedidos']]\n",
    "  except:\n",
    "    break\n",
    "vendas = pd.DataFrame(vendas)\n",
    "vendas.drop(['id', 'numero', 'numero_ecommerce', 'data_prevista', 'nome', 'id_vendedor', 'nome_vendedor', 'situacao',\n",
    "       'codigo_rastreamento', 'url_rastreamento'], axis=1, inplace=True)\n",
    "vendas['semana'] = [rdmy(x).isocalendar()[1] for x in vendas['data_pedido']]"
   ]
  },
  {
   "cell_type": "code",
   "execution_count": 58,
   "metadata": {},
   "outputs": [],
   "source": [
    "# Faturamento\n",
    "faturamento = pd.pivot_table(vendas, values='valor', index='semana', aggfunc='sum')\n",
    "faturamento = [faturamento['valor'][:-1].mean(), faturamento['valor'].std()] "
   ]
  },
  {
   "cell_type": "code",
   "execution_count": 59,
   "metadata": {},
   "outputs": [],
   "source": [
    "# Contas\n",
    "contas = list()\n",
    "data = {'formato': 'json',\n",
    "        'token': token,\n",
    "        'data_ini vencimento': dmy(hoje),\n",
    "        'data_fim_vencimento': dmy(agenda['data'].max()),\n",
    "        'pagina': 1}\n",
    "while True:\n",
    "  session = requests.post(url='https://api.tiny.com.br/api2/contas.pagar.pesquisa.php', data=data).json()\n",
    "  data['pagina'] += 1\n",
    "  try:\n",
    "    contas += [x['conta'] for x in session['retorno']['contas']]\n",
    "  except:\n",
    "    break\n",
    "contas = pd.DataFrame(contas)\n",
    "contas['data'] = contas['data_vencimento']\n",
    "contas.set_index('data', inplace=True)\n",
    "contas.drop(['id', 'data_vencimento', 'nome_cliente', 'historico', 'numero_doc', 'situacao', 'data_emissao', 'saldo'], axis=1, inplace=True)\n",
    "contas['valor'] = pd.to_numeric(contas['valor'])\n",
    "contas = pd.pivot_table(contas, values='valor', aggfunc='sum', index='data')"
   ]
  },
  {
   "cell_type": "code",
   "execution_count": 60,
   "metadata": {},
   "outputs": [],
   "source": [
    "# Análise\n",
    "analise = contas.copy()\n",
    "analise.index = [rdmy(x) for x in contas.reset_index()['data']]\n",
    "analise = pd.concat([analise, peso]).sort_index()\n",
    "analise['semana'] = [x.isocalendar()[1] for x in analise.index]\n",
    "analise = pd.pivot_table(analise.reset_index(drop=False), 'valor', 'semana')\n",
    "analise.index = [rweek(x) for x in analise.index]\n",
    "analise.columns = ['despesas']\n",
    "analise['faturamento'] = [(faturamento[0] - faturamento[1]*1.6) for x in analise.index]\n",
    "analise['saldo'] = analise['faturamento'] - analise['despesas']\n",
    "analise.index.name = 'semana'"
   ]
  },
  {
   "cell_type": "code",
   "execution_count": 61,
   "metadata": {},
   "outputs": [
    {
     "name": "stderr",
     "output_type": "stream",
     "text": [
      "<ipython-input-61-18f93a21770c>:3: SettingWithCopyWarning: \n",
      "A value is trying to be set on a copy of a slice from a DataFrame.\n",
      "Try using .loc[row_indexer,col_indexer] = value instead\n",
      "\n",
      "See the caveats in the documentation: https://pandas.pydata.org/pandas-docs/stable/user_guide/indexing.html#returning-a-view-versus-a-copy\n",
      "  negadas['intervalo'] = [[rdmy(x.split(' à ')[0]), rdmy(x.split(' à ')[1])] for x in negadas.index]\n"
     ]
    }
   ],
   "source": [
    "# Negadas\n",
    "negadas = analise[analise['saldo'] <= 0]\n",
    "negadas['intervalo'] = [[rdmy(x.split(' à ')[0]), rdmy(x.split(' à ')[1])] for x in negadas.index]\n",
    "negadas.reset_index(inplace=True)\n",
    "negadas = negadas['intervalo'].values.tolist()\n",
    "temp = list()\n",
    "for fornecedor, valor, data in zip(agenda.index, agenda['valor'], agenda['data']):\n",
    "    for segunda, sexta in negadas:\n",
    "        if data > segunda and data < sexta:\n",
    "            temp.append([fornecedor, dmy(data), valor])\n",
    "negadas = pd.DataFrame(temp)\n",
    "negadas.set_index(0, inplace=True)\n",
    "negadas.columns = ['data', 'valor']\n",
    "negadas.index.name = 'fornecedor'"
   ]
  },
  {
   "cell_type": "code",
   "execution_count": 62,
   "metadata": {},
   "outputs": [
    {
     "data": {
      "text/plain": [
       "{'relatorio': {'analise': [{'semana': '23/05/2022 à 27/05/2022',\n",
       "    'despesas': 2369.1049999999996,\n",
       "    'faturamento': 3635.860479018851,\n",
       "    'saldo': 1266.7554790188515},\n",
       "   {'semana': '30/05/2022 à 03/06/2022',\n",
       "    'despesas': 4992.672916666666,\n",
       "    'faturamento': 3635.860479018851,\n",
       "    'saldo': -1356.8124376478154},\n",
       "   {'semana': '06/06/2022 à 10/06/2022',\n",
       "    'despesas': 3258.023333333333,\n",
       "    'faturamento': 3635.860479018851,\n",
       "    'saldo': 377.83714568551795},\n",
       "   {'semana': '20/06/2022 à 24/06/2022',\n",
       "    'despesas': 409.13055555555565,\n",
       "    'faturamento': 3635.860479018851,\n",
       "    'saldo': 3226.7299234632956}],\n",
       "  'negadas': [{'fornecedor': 'marfrig',\n",
       "    'data': '30/05/2022',\n",
       "    'valor': 181.5666666666667},\n",
       "   {'fornecedor': 'dona beth', 'data': '30/05/2022', 'valor': 191.425}]}}"
      ]
     },
     "execution_count": 62,
     "metadata": {},
     "output_type": "execute_result"
    }
   ],
   "source": [
    "#POST\n",
    "data = {\n",
    "    'relatorio': {\n",
    "            'analise': analise.reset_index().to_dict(orient='records'),\n",
    "            'negadas': negadas.reset_index().to_dict(orient='records')\n",
    "    }\n",
    "}\n",
    "requests.post('http://127.0.0.1:5000/relatorio', data=json.dumps(data)).json()"
   ]
  }
 ],
 "metadata": {
  "interpreter": {
   "hash": "ad2bdc8ecc057115af97d19610ffacc2b4e99fae6737bb82f5d7fb13d2f2c186"
  },
  "kernelspec": {
   "display_name": "Python 3.8.8 ('base')",
   "language": "python",
   "name": "python3"
  },
  "language_info": {
   "codemirror_mode": {
    "name": "ipython",
    "version": 3
   },
   "file_extension": ".py",
   "mimetype": "text/x-python",
   "name": "python",
   "nbconvert_exporter": "python",
   "pygments_lexer": "ipython3",
   "version": "3.8.8"
  },
  "orig_nbformat": 4
 },
 "nbformat": 4,
 "nbformat_minor": 2
}
