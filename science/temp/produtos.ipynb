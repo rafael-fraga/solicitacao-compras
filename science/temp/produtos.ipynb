{
 "cells": [
  {
   "cell_type": "code",
   "execution_count": 197,
   "metadata": {},
   "outputs": [],
   "source": [
    "import pandas as pd\n",
    "import requests, json\n",
    "from time import sleep"
   ]
  },
  {
   "cell_type": "markdown",
   "metadata": {},
   "source": [
    "## Lista Produtos"
   ]
  },
  {
   "cell_type": "code",
   "execution_count": 201,
   "metadata": {},
   "outputs": [],
   "source": [
    "produtos = list()\n",
    "data = {'formato': 'json',\n",
    "        'token': '2b6fc7102240cedcc9166c43921ea73eea82b876',\n",
    "        'pesquisa': '',\n",
    "        'pagina': 1}\n",
    "while True:\n",
    "    session = requests.post(url='https://api.tiny.com.br/api2/produtos.pesquisa.php', data=data).json()\n",
    "    data['pagina'] += 1\n",
    "    try:\n",
    "        produtos += [x['produto'] for x in session['retorno']['produtos']]\n",
    "    except:\n",
    "        break\n",
    "produtos = pd.DataFrame(produtos)"
   ]
  },
  {
   "cell_type": "markdown",
   "metadata": {},
   "source": [
    "Apurar databaset completo de produtos"
   ]
  },
  {
   "cell_type": "code",
   "execution_count": 199,
   "metadata": {},
   "outputs": [],
   "source": [
    "produtos_completos = list()\n",
    "for id in produtos['id']:\n",
    "    data = {\n",
    "        'formato': 'json',\n",
    "        'token': '2b6fc7102240cedcc9166c43921ea73eea82b876',\n",
    "        'id': id\n",
    "    }\n",
    "    try:\n",
    "        produtos_completos += [requests.post(url='https://api.tiny.com.br/api2/produto.obter.php', data=data).json()['retorno']['produto']]\n",
    "    except:\n",
    "        sleep(60)\n",
    "        produtos_completos += [requests.post(url='https://api.tiny.com.br/api2/produto.obter.php', data=data).json()['retorno']['produto']]\n",
    "produtos_completos = pd.DataFrame(produtos_completos)"
   ]
  },
  {
   "cell_type": "markdown",
   "metadata": {},
   "source": [
    "Filtragem de dados"
   ]
  },
  {
   "cell_type": "code",
   "execution_count": 204,
   "metadata": {},
   "outputs": [],
   "source": [
    "produtos_filtrados = produtos_completos[pd.DataFrame([produtos_completos['categoria'] == x for x in ['Bovinos', 'Suínos', 'Aves', 'Especiais']]).any()]\n",
    "produtos_filtrados = produtos_filtrados[produtos_filtrados['slug'] != '']"
   ]
  },
  {
   "cell_type": "markdown",
   "metadata": {},
   "source": [
    "Limpeza de dados"
   ]
  },
  {
   "cell_type": "code",
   "execution_count": 209,
   "metadata": {},
   "outputs": [
    {
     "data": {
      "text/html": [
       "<div>\n",
       "<style scoped>\n",
       "    .dataframe tbody tr th:only-of-type {\n",
       "        vertical-align: middle;\n",
       "    }\n",
       "\n",
       "    .dataframe tbody tr th {\n",
       "        vertical-align: top;\n",
       "    }\n",
       "\n",
       "    .dataframe thead th {\n",
       "        text-align: right;\n",
       "    }\n",
       "</style>\n",
       "<table border=\"1\" class=\"dataframe\">\n",
       "  <thead>\n",
       "    <tr style=\"text-align: right;\">\n",
       "      <th></th>\n",
       "      <th>id</th>\n",
       "      <th>nome</th>\n",
       "      <th>codigo</th>\n",
       "      <th>unidade</th>\n",
       "      <th>estoque_minimo</th>\n",
       "      <th>slug</th>\n",
       "    </tr>\n",
       "  </thead>\n",
       "  <tbody>\n",
       "    <tr>\n",
       "      <th>1</th>\n",
       "      <td>623449734</td>\n",
       "      <td>ALCATRA COM QUEIJO</td>\n",
       "      <td>ALCAQP</td>\n",
       "      <td>kg</td>\n",
       "      <td>8.62</td>\n",
       "      <td>Alcatra</td>\n",
       "    </tr>\n",
       "    <tr>\n",
       "      <th>2</th>\n",
       "      <td>623449795</td>\n",
       "      <td>ALMÔNDEGA BACON</td>\n",
       "      <td>ALMOBARB</td>\n",
       "      <td>kg</td>\n",
       "      <td>5.00</td>\n",
       "      <td>Almôndega</td>\n",
       "    </tr>\n",
       "    <tr>\n",
       "      <th>3</th>\n",
       "      <td>623449782</td>\n",
       "      <td>ALMÔNDEGA QUEIJO</td>\n",
       "      <td>ALMOQRB</td>\n",
       "      <td>kg</td>\n",
       "      <td>4.50</td>\n",
       "      <td>Almôndega</td>\n",
       "    </tr>\n",
       "    <tr>\n",
       "      <th>4</th>\n",
       "      <td>778208483</td>\n",
       "      <td>ANCHO ALIMENTAR</td>\n",
       "      <td>ANCHALI</td>\n",
       "      <td>kg</td>\n",
       "      <td>0.00</td>\n",
       "      <td>Ancho</td>\n",
       "    </tr>\n",
       "    <tr>\n",
       "      <th>5</th>\n",
       "      <td>646749750</td>\n",
       "      <td>ANCHO DI PRIMA</td>\n",
       "      <td>ANCHDIPDI</td>\n",
       "      <td>kg</td>\n",
       "      <td>0.00</td>\n",
       "      <td>Ancho</td>\n",
       "    </tr>\n",
       "    <tr>\n",
       "      <th>...</th>\n",
       "      <td>...</td>\n",
       "      <td>...</td>\n",
       "      <td>...</td>\n",
       "      <td>...</td>\n",
       "      <td>...</td>\n",
       "      <td>...</td>\n",
       "    </tr>\n",
       "    <tr>\n",
       "      <th>143</th>\n",
       "      <td>638867885</td>\n",
       "      <td>T-BONE MINERVA ANGUS</td>\n",
       "      <td>TBONMINE</td>\n",
       "      <td>kg</td>\n",
       "      <td>5.00</td>\n",
       "      <td>T-Bone</td>\n",
       "    </tr>\n",
       "    <tr>\n",
       "      <th>144</th>\n",
       "      <td>640758272</td>\n",
       "      <td>T-BONE RARO</td>\n",
       "      <td>TBNERARO</td>\n",
       "      <td>kg</td>\n",
       "      <td>0.00</td>\n",
       "      <td>T-Bone</td>\n",
       "    </tr>\n",
       "    <tr>\n",
       "      <th>146</th>\n",
       "      <td>623450791</td>\n",
       "      <td>TOMAHAWK CARA PRETA</td>\n",
       "      <td>TOMACP</td>\n",
       "      <td>kg</td>\n",
       "      <td>2.00</td>\n",
       "      <td>Tomahawk</td>\n",
       "    </tr>\n",
       "    <tr>\n",
       "      <th>147</th>\n",
       "      <td>647280670</td>\n",
       "      <td>TOMAHAWK RARO</td>\n",
       "      <td>TOMARARO</td>\n",
       "      <td>kg</td>\n",
       "      <td>0.00</td>\n",
       "      <td>Tomahawk</td>\n",
       "    </tr>\n",
       "    <tr>\n",
       "      <th>148</th>\n",
       "      <td>769175229</td>\n",
       "      <td>TULIPA</td>\n",
       "      <td>TLPA</td>\n",
       "      <td>un</td>\n",
       "      <td>0.00</td>\n",
       "      <td>Tulipa</td>\n",
       "    </tr>\n",
       "  </tbody>\n",
       "</table>\n",
       "<p>103 rows × 6 columns</p>\n",
       "</div>"
      ],
      "text/plain": [
       "            id                  nome     codigo unidade  estoque_minimo  \\\n",
       "1    623449734    ALCATRA COM QUEIJO     ALCAQP      kg            8.62   \n",
       "2    623449795       ALMÔNDEGA BACON   ALMOBARB      kg            5.00   \n",
       "3    623449782      ALMÔNDEGA QUEIJO    ALMOQRB      kg            4.50   \n",
       "4    778208483       ANCHO ALIMENTAR    ANCHALI      kg            0.00   \n",
       "5    646749750        ANCHO DI PRIMA  ANCHDIPDI      kg            0.00   \n",
       "..         ...                   ...        ...     ...             ...   \n",
       "143  638867885  T-BONE MINERVA ANGUS   TBONMINE      kg            5.00   \n",
       "144  640758272           T-BONE RARO   TBNERARO      kg            0.00   \n",
       "146  623450791   TOMAHAWK CARA PRETA     TOMACP      kg            2.00   \n",
       "147  647280670         TOMAHAWK RARO   TOMARARO      kg            0.00   \n",
       "148  769175229                TULIPA       TLPA      un            0.00   \n",
       "\n",
       "          slug  \n",
       "1      Alcatra  \n",
       "2    Almôndega  \n",
       "3    Almôndega  \n",
       "4        Ancho  \n",
       "5        Ancho  \n",
       "..         ...  \n",
       "143     T-Bone  \n",
       "144     T-Bone  \n",
       "146   Tomahawk  \n",
       "147   Tomahawk  \n",
       "148     Tulipa  \n",
       "\n",
       "[103 rows x 6 columns]"
      ]
     },
     "execution_count": 209,
     "metadata": {},
     "output_type": "execute_result"
    }
   ],
   "source": [
    "produtos_formatados = produtos_filtrados.drop(['preco', 'marca', 'preco_promocional', 'ncm', 'origem', 'gtin', 'gtin_embalagem', 'localizacao', 'peso_liquido', 'peso_bruto', 'estoque_maximo', 'id_fornecedor', 'codigo_fornecedor', 'codigo_pelo_fornecedor', 'unidade_por_caixa', 'preco_custo', 'preco_custo_medio', 'situacao', 'tipo', 'classe_ipi', 'valor_ipi_fixo', 'cod_lista_servicos', 'descricao_complementar', 'garantia', 'cest', 'obs', 'tipoVariacao', 'variacoes', 'idProdutoPai', 'sob_encomenda', 'dias_preparacao', 'tipoEmbalagem', 'alturaEmbalagem', 'comprimentoEmbalagem', 'larguraEmbalagem', 'diametroEmbalagem', 'categoria', 'anexos', 'imagens_externas', 'classe_produto', 'seo_title', 'seo_keywords', 'link_video', 'seo_description', 'kit'], axis=1)\n",
    "\n",
    "# unidade\n",
    "produtos_formatados['unidade'] = produtos_formatados['unidade'].str.casefold()\n",
    "produtos_formatados['unidade'] = ['un' if x != 'kg' else 'kg' for x in produtos_formatados['unidade']]\n",
    "\n",
    "produtos_formatados"
   ]
  },
  {
   "cell_type": "markdown",
   "metadata": {},
   "source": [
    "Conversão para POST"
   ]
  },
  {
   "cell_type": "code",
   "execution_count": 224,
   "metadata": {},
   "outputs": [
    {
     "data": {
      "text/plain": [
       "'[{\"id\": \"623449734\", \"nome\": \"ALCATRA COM QUEIJO\", \"codigo\": \"ALCAQP\", \"unidade\": \"kg\", \"estoque_minimo\": 8.62, \"slug\": \"Alcatra\", \"estoque\": 14.49}, {\"id\": \"623449795\", \"nome\": \"ALM\\\\u00d4NDEGA BACON\", \"codigo\": \"ALMOBARB\", \"unidade\": \"kg\", \"estoque_minimo\": 5.0, \"slug\": \"Alm\\\\u00f4ndega\", \"estoque\": 0}, {\"id\": \"623449782\", \"nome\": \"ALM\\\\u00d4NDEGA QUEIJO\", \"codigo\": \"ALMOQRB\", \"unidade\": \"kg\", \"estoque_minimo\": 4.5, \"slug\": \"Alm\\\\u00f4ndega\", \"estoque\": 0}, {\"id\": \"778208483\", \"nome\": \"ANCHO ALIMENTAR\", \"codigo\": \"ANCHALI\", \"unidade\": \"kg\", \"estoque_minimo\": 0.0, \"slug\": \"Ancho\", \"estoque\": 0}, {\"id\": \"646749750\", \"nome\": \"ANCHO DI PRIMA\", \"codigo\": \"ANCHDIPDI\", \"unidade\": \"kg\", \"estoque_minimo\": 0.0, \"slug\": \"Ancho\", \"estoque\": 0}, {\"id\": \"729652533\", \"nome\": \"ANCHO MINERVA\", \"codigo\": \"ANCHMINERV\", \"unidade\": \"kg\", \"estoque_minimo\": 0.0, \"slug\": \"Ancho\", \"estoque\": 0}, {\"id\": \"638403161\", \"nome\": \"ANCHO MONTANA STEAKHOUSE\", \"codigo\": \"ANCHMOSTKMA\", \"unidade\": \"kg\", \"estoque_minimo\": 4.0, \"slug\": \"Ancho\", \"estoque\": 20.01}, {\"id\": \"623449824\", \"nome\": \"ASINHA RECHEADA\", \"codigo\": \"ASARECHRB\", \"unidade\": \"un\", \"estoque_minimo\": 5.0, \"slug\": \"Asinha\", \"estoque\": 7}, {\"id\": \"623449837\", \"nome\": \"ASSADO DE TIRAS ARG\", \"codigo\": \"ASSTIRARG\", \"unidade\": \"kg\", \"estoque_minimo\": 2.0, \"slug\": \"Assado\", \"estoque\": 0}, {\"id\": \"661843960\", \"nome\": \"BACON FATIADO\", \"codigo\": \"BACNFATDNT\", \"unidade\": \"un\", \"estoque_minimo\": 2.0, \"slug\": \"Bacon\", \"estoque\": 0}, {\"id\": \"649329262\", \"nome\": \"BUTCHER STEAK PORCAO\", \"codigo\": \"BUTCHPORC\", \"unidade\": \"kg\", \"estoque_minimo\": 0.0, \"slug\": \"Butcher\", \"estoque\": 0}, {\"id\": \"733149637\", \"nome\": \"CARPACCIO CARA PRETA\", \"codigo\": \"CARPACCP\", \"unidade\": \"un\", \"estoque_minimo\": 0.0, \"slug\": \"Carpaccio\", \"estoque\": 0}, {\"id\": \"659216777\", \"nome\": \"CARR\\\\u00c9 CORDEIRO 1953\", \"codigo\": \"CARREPLE\", \"unidade\": \"kg\", \"estoque_minimo\": 1.0, \"slug\": \"Carr\\\\u00e9 Cordeiro\", \"estoque\": 0}, {\"id\": \"623449886\", \"nome\": \"CHORIZO EST\\\\u00c2NCIA 92\", \"codigo\": \"CHRZEST92\", \"unidade\": \"kg\", \"estoque_minimo\": 4.0, \"slug\": \"Chorizo\", \"estoque\": 10.88}, {\"id\": \"623449902\", \"nome\": \"CORA\\\\u00c7\\\\u00c3O\", \"codigo\": \"CORAGAT\", \"unidade\": \"kg\", \"estoque_minimo\": 6.0, \"slug\": \"Cora\\\\u00e7\\\\u00e3o\", \"estoque\": 6.5}, {\"id\": \"692081848\", \"nome\": \"COSTELINHA DIA A DIA\", \"codigo\": \"COSTDIADIA\", \"unidade\": \"kg\", \"estoque_minimo\": 2.0, \"slug\": \"Costelinha\", \"estoque\": 0}, {\"id\": \"623449926\", \"nome\": \"COSTELINHA SU\\\\u00cdNA BBQ\", \"codigo\": \"COSTBBQRB\", \"unidade\": \"kg\", \"estoque_minimo\": 3.0, \"slug\": \"Costelinha\", \"estoque\": 5}, {\"id\": \"706381781\", \"nome\": \"COWBOY CARA PRETA\", \"codigo\": \"COWBCP\", \"unidade\": \"kg\", \"estoque_minimo\": 0.0, \"slug\": \"Cowboy\", \"estoque\": 0.64}, {\"id\": \"623449932\", \"nome\": \"COXINHA DA ASA\", \"codigo\": \"COXINGAT\", \"unidade\": \"kg\", \"estoque_minimo\": 6.0, \"slug\": \"Coxinha\", \"estoque\": 19}, {\"id\": \"623449946\", \"nome\": \"DENVER CARA PRETA\", \"codigo\": \"DENVCP\", \"unidade\": \"kg\", \"estoque_minimo\": 2.0, \"slug\": \"Denver\", \"estoque\": 0}, {\"id\": \"794828451\", \"nome\": \"FRALDA MINERVA\", \"codigo\": \"FRALDMINE\", \"unidade\": \"kg\", \"estoque_minimo\": 0.0, \"slug\": \"Fralda\", \"estoque\": 0}, {\"id\": \"773934587\", \"nome\": \"FRALD\\\\u00c3O BURG\", \"codigo\": \"FRALDBG\", \"unidade\": \"kg\", \"estoque_minimo\": 0.0, \"slug\": \"Falda\", \"estoque\": 0}, {\"id\": \"770209199\", \"nome\": \"FRALD\\\\u00c3O URUGUAIO ESTER\", \"codigo\": \"FRLDURUESTR\", \"unidade\": \"kg\", \"estoque_minimo\": 0.0, \"slug\": \"Fralda\", \"estoque\": 1.91}, {\"id\": \"778208038\", \"nome\": \"FRALDINHA ALIMENTAR\", \"codigo\": \"FRALDALI\", \"unidade\": \"kg\", \"estoque_minimo\": 0.0, \"slug\": \"Fraldinha\", \"estoque\": 0}, {\"id\": \"791977192\", \"nome\": \"FRALDINHA BASSI\", \"codigo\": \"FRALDBASS\", \"unidade\": \"kg\", \"estoque_minimo\": 5.0, \"slug\": \"Fraldinha\", \"estoque\": 0}, {\"id\": \"663063892\", \"nome\": \"FRALDINHA CARA PRETA\", \"codigo\": \"FRALDCP\", \"unidade\": \"kg\", \"estoque_minimo\": 2.0, \"slug\": \"Fraldinha\", \"estoque\": 2.68}, {\"id\": \"623449970\", \"nome\": \"FRALDINHA EST\\\\u00c2NCIA 92\", \"codigo\": \"FRALDIEST92\", \"unidade\": \"kg\", \"estoque_minimo\": 5.0, \"slug\": \"Fraldinha\", \"estoque\": 0}, {\"id\": \"744114547\", \"nome\": \"FRALDINHA LS\", \"codigo\": \"FRALDLS\", \"unidade\": \"kg\", \"estoque_minimo\": 0.0, \"slug\": \"Fraldinha\", \"estoque\": 0}, {\"id\": \"767806291\", \"nome\": \"FRALDINHA MATABOI\", \"codigo\": \"FRALDMTBOI\", \"unidade\": \"kg\", \"estoque_minimo\": 0.0, \"slug\": \"Fraldinha\", \"estoque\": 0}, {\"id\": \"799895288\", \"nome\": \"FRALDINHA MINERVA\", \"codigo\": \"FRALDMNRVA\", \"unidade\": \"kg\", \"estoque_minimo\": 0.0, \"slug\": \"Fraldinha\", \"estoque\": 0}, {\"id\": \"664322273\", \"nome\": \"FRALDINHA MONTANA STEAKHOUSE\", \"codigo\": \"FRALDMONTANA\", \"unidade\": \"kg\", \"estoque_minimo\": 4.0, \"slug\": \"Fraldinha\", \"estoque\": 8.37}, {\"id\": \"638432052\", \"nome\": \"FRALDINHA RED RARO\", \"codigo\": \"FRDIRERARO\", \"unidade\": \"kg\", \"estoque_minimo\": 0.0, \"slug\": \"Fraldinha\", \"estoque\": 0}, {\"id\": \"623449997\", \"nome\": \"HAMBURGUER CARA PRETA\", \"codigo\": \"HAMBCP\", \"unidade\": \"un\", \"estoque_minimo\": 2.0, \"slug\": \"Hamburguer\", \"estoque\": 5}, {\"id\": \"789712012\", \"nome\": \"HAMBURGUER DE TIL\\\\u00c1PIA\", \"codigo\": \"HBRGTILP\", \"unidade\": \"un\", \"estoque_minimo\": 0.0, \"slug\": \"Hamburguer\", \"estoque\": 16}, {\"id\": \"623450013\", \"nome\": \"KAFTA CHEDDAR\", \"codigo\": \"KAFTCHED\", \"unidade\": \"un\", \"estoque_minimo\": 4.0, \"slug\": \"Kafta\", \"estoque\": 6}, {\"id\": \"649329268\", \"nome\": \"LINGUI\\\\u00c7A  DE PERNIL PORC\\\\u00c3O\", \"codigo\": \"LINGPERPRC\", \"unidade\": \"kg\", \"estoque_minimo\": 0.0, \"slug\": \"Lingui\\\\u00e7a\", \"estoque\": 0}, {\"id\": \"785293008\", \"nome\": \"LINGUI\\\\u00c7A ARTESANAL DE TIL\\\\u00c1PIA\", \"codigo\": \"LINGARTTLP\", \"unidade\": \"kg\", \"estoque_minimo\": 0.0, \"slug\": \"Lingui\\\\u00e7a\", \"estoque\": 16}, {\"id\": \"623450189\", \"nome\": \"LINGUI\\\\u00c7A CASEIRA BRAZAS BACON\", \"codigo\": \"LINGBRAZBAC\", \"unidade\": \"kg\", \"estoque_minimo\": 3.0, \"slug\": \"Lingui\\\\u00e7a\", \"estoque\": 4.5}, {\"id\": \"623450199\", \"nome\": \"LINGUI\\\\u00c7A CASEIRA BRAZAS BACON, QUEIJO E ALHO POR\\\\u00d3\", \"codigo\": \"LINGBRZBQA\", \"unidade\": \"kg\", \"estoque_minimo\": 10.0, \"slug\": \"Lingui\\\\u00e7a\", \"estoque\": 0}, {\"id\": \"800868965\", \"nome\": \"LINGUI\\\\u00c7A CASEIRA BRAZAS FRANGO\", \"codigo\": \"LINGBRZSFRG\", \"unidade\": \"un\", \"estoque_minimo\": 0.0, \"slug\": \"Lingui\\\\u00e7a\", \"estoque\": 0}, {\"id\": \"623450046\", \"nome\": \"LINGUI\\\\u00c7A CASEIRA BRAZAS PIMENTA\", \"codigo\": \"LINGBRAZPIM\", \"unidade\": \"kg\", \"estoque_minimo\": 3.0, \"slug\": \"Lingui\\\\u00e7a\", \"estoque\": 3.5}, {\"id\": \"623450182\", \"nome\": \"LINGUI\\\\u00c7A CASEIRA BRAZAS PIMENTA BIQUINHO\", \"codigo\": \"LINGBRAZPIMBIQ\", \"unidade\": \"kg\", \"estoque_minimo\": 3.0, \"slug\": \"Lingui\\\\u00e7a\", \"estoque\": 4}, {\"id\": \"623450205\", \"nome\": \"LINGUI\\\\u00c7A CASEIRA BRAZAS PROVOLONE\", \"codigo\": \"LINGBRAZPRVL\", \"unidade\": \"kg\", \"estoque_minimo\": 3.0, \"slug\": \"Lingui\\\\u00e7a\", \"estoque\": 5}, {\"id\": \"623450210\", \"nome\": \"LINGUI\\\\u00c7A CASEIRA BRAZAS TRADICIONAL\", \"codigo\": \"LINGBRAZTRAD\", \"unidade\": \"kg\", \"estoque_minimo\": 3.0, \"slug\": \"Lingui\\\\u00e7a\", \"estoque\": 6.5}, {\"id\": \"623450220\", \"nome\": \"LINGUI\\\\u00c7A CUIABANA\", \"codigo\": \"LINGCUIABO\", \"unidade\": \"kg\", \"estoque_minimo\": 2.0, \"slug\": \"Lingui\\\\u00e7a\", \"estoque\": 0}, {\"id\": \"682500784\", \"nome\": \"LINGUI\\\\u00c7A DE CORDEIRO ARG\", \"codigo\": \"LINGCORDARG\", \"unidade\": \"kg\", \"estoque_minimo\": 4.0, \"slug\": \"Lingui\\\\u00e7a\", \"estoque\": 0}, {\"id\": \"623450215\", \"nome\": \"LINGUI\\\\u00c7A DE COSTELA CARA PRETA\", \"codigo\": \"LINGCOSCP\", \"unidade\": \"kg\", \"estoque_minimo\": 6.0, \"slug\": \"Lingui\\\\u00e7a\", \"estoque\": 0}, {\"id\": \"804981063\", \"nome\": \"LINGUI\\\\u00c7A DE PERNIL GARAPA\", \"codigo\": \"LINGPERNGARA\", \"unidade\": \"kg\", \"estoque_minimo\": 0.0, \"slug\": \"Lingui\\\\u00e7a\", \"estoque\": 0}, {\"id\": \"794827835\", \"nome\": \"MAMINHA MINERVA\", \"codigo\": \"MAMIMINE\", \"unidade\": \"kg\", \"estoque_minimo\": 0.0, \"slug\": \"Maminha\", \"estoque\": 1.41}, {\"id\": \"653960156\", \"nome\": \"MAMINHA STEAK MARINADO\", \"codigo\": \"MAMSTKPORC\", \"unidade\": \"kg\", \"estoque_minimo\": 4.0, \"slug\": \"Maminha\", \"estoque\": 0}, {\"id\": \"634824164\", \"nome\": \"MANTA SU\\\\u00cdNA BACON E CHEDDAR\", \"codigo\": \"MANTSUINCHED\", \"unidade\": \"kg\", \"estoque_minimo\": 2.0, \"slug\": \"Manta Su\\\\u00edna\", \"estoque\": 0}, {\"id\": \"623450225\", \"nome\": \"MANTA SU\\\\u00cdNA QUEIJO COALHO\", \"codigo\": \"MANTSUINQC\", \"unidade\": \"kg\", \"estoque_minimo\": 4.0, \"slug\": \"Manta Su\\\\u00edna\", \"estoque\": 3}, {\"id\": \"623450236\", \"nome\": \"MEDALH\\\\u00c3O DE BATATA COM CHEDDAR\", \"codigo\": \"MEDBATCHED\", \"unidade\": \"un\", \"estoque_minimo\": 5.0, \"slug\": \"Medalh\\\\u00e3o\", \"estoque\": 5}, {\"id\": \"628882233\", \"nome\": \"MEDALH\\\\u00c3O SUINO\", \"codigo\": \"MEDSURB\", \"unidade\": \"un\", \"estoque_minimo\": 3.0, \"slug\": \"Medalh\\\\u00e3o\", \"estoque\": 0}, {\"id\": \"804677691\", \"nome\": \"P\\\\u00c3O DE FRANGO COM REQUEIJAO\", \"codigo\": \"PDFDNBT\", \"unidade\": \"un\", \"estoque_minimo\": 0.0, \"slug\": \"P\\\\u00e3o de frango\", \"estoque\": 0}, {\"id\": \"786903341\", \"nome\": \"PICANHA ALIMENTAR\", \"codigo\": \"PICAALIM\", \"unidade\": \"kg\", \"estoque_minimo\": 5.0, \"slug\": \"Picanha\", \"estoque\": 0}, {\"id\": \"638379143\", \"nome\": \"PICANHA ANA PAULA BLACK ANGUS\", \"codigo\": \"PICANBLKAMI\", \"unidade\": \"kg\", \"estoque_minimo\": 2.0, \"slug\": \"Picanha\", \"estoque\": 0}, {\"id\": \"623450327\", \"nome\": \"PICANHA ARREBEEF\", \"codigo\": \"PICARREB\", \"unidade\": \"kg\", \"estoque_minimo\": 1.0, \"slug\": \"Picanha\", \"estoque\": {\"id\": \"623450327\", \"nome\": \"PICANHA ARREBEEF\", \"codigo\": \"PICARREB\", \"unidade\": \"kg\", \"saldo\": 0, \"depositos\": [{\"deposito\": {\"nome\": \"Geral\", \"desconsiderar\": \"N\", \"saldo\": 0, \"empresa\": \"Brazas\"}}]}}, {\"id\": \"766299129\", \"nome\": \"PICANHA ARROBA\", \"codigo\": \"PICARRBA\", \"unidade\": \"kg\", \"estoque_minimo\": 0.0, \"slug\": \"Picanha\", \"estoque\": 0}, {\"id\": \"623450340\", \"nome\": \"PICANHA BASSI\", \"codigo\": \"PICBASSI\", \"unidade\": \"kg\", \"estoque_minimo\": 3.0, \"slug\": \"Picanha\", \"estoque\": 9.56}, {\"id\": \"630551037\", \"nome\": \"PICANHA BRAZAS\", \"codigo\": \"PICBRAZ\", \"unidade\": \"kg\", \"estoque_minimo\": 7.0, \"slug\": \"Picanha\", \"estoque\": 13.02}, {\"id\": \"623450354\", \"nome\": \"PICANHA CARA PRETA\", \"codigo\": \"PICCP\", \"unidade\": \"kg\", \"estoque_minimo\": 2.0, \"slug\": \"Picanha\", \"estoque\": 7.82}, {\"id\": \"737002822\", \"nome\": \"PICANHA CONCARSA\", \"codigo\": \"PICCONCARSA\", \"unidade\": \"kg\", \"estoque_minimo\": 0.0, \"slug\": \"Picanha\", \"estoque\": 0}, {\"id\": \"774269426\", \"nome\": \"PICANHA CRUZEIRO DO SUL\", \"codigo\": \"PICCRSUL\", \"unidade\": \"kg\", \"estoque_minimo\": 0.0, \"slug\": \"Picanha\", \"estoque\": 14.82}, {\"id\": \"623450374\", \"nome\": \"PICANHA DI PRIMA\", \"codigo\": \"PICADIPRI\", \"unidade\": \"kg\", \"estoque_minimo\": 0.0, \"slug\": \"Picanha\", \"estoque\": 0}, {\"id\": \"733415440\", \"nome\": \"PICANHA FINEXCOR\", \"codigo\": \"PICFINEXIMP\", \"unidade\": \"kg\", \"estoque_minimo\": 0.0, \"slug\": \"Picanha\", \"estoque\": 0}, {\"id\": \"637005194\", \"nome\": \"PICANHA FRIGOCHACO\", \"codigo\": \"PICFRIGOIMP\", \"unidade\": \"kg\", \"estoque_minimo\": 2.0, \"slug\": \"Picanha\", \"estoque\": 0}, {\"id\": \"795400098\", \"nome\": \"PICANHA FRIGOMERC\", \"codigo\": \"PICAFRIGO\", \"unidade\": \"kg\", \"estoque_minimo\": 0.0, \"slug\": \"Picanha\", \"estoque\": 0}, {\"id\": \"777807737\", \"nome\": \"PICANHA FRIPAI\", \"codigo\": \"PICFRPA\", \"unidade\": \"kg\", \"estoque_minimo\": 0.0, \"slug\": \"Picanha\", \"estoque\": 1.33}, {\"id\": \"626302922\", \"nome\": \"PICANHA GORINA\", \"codigo\": \"PICAGORI\", \"unidade\": \"kg\", \"estoque_minimo\": 0.0, \"slug\": \"Picanha\", \"estoque\": 0}, {\"id\": \"723855204\", \"nome\": \"PICANHA GUARANI\", \"codigo\": \"PICGUARANI\", \"unidade\": \"kg\", \"estoque_minimo\": 0.0, \"slug\": \"Picanha\", \"estoque\": 0}, {\"id\": \"623450496\", \"nome\": \"PICANHA MATABOI\", \"codigo\": \"PICAMATBOI\", \"unidade\": \"kg\", \"estoque_minimo\": 0.0, \"slug\": \"Picanha\", \"estoque\": 0}, {\"id\": \"794829708\", \"nome\": \"PICANHA MINERVA\", \"codigo\": \"PICAMINE\", \"unidade\": \"kg\", \"estoque_minimo\": 0.0, \"slug\": \"Picanha\", \"estoque\": 0}, {\"id\": \"801868011\", \"nome\": \"PICANHA PARAGUAIA\", \"codigo\": \"PICPARAG\", \"unidade\": \"kg\", \"estoque_minimo\": 0.0, \"slug\": \"Picanha\", \"estoque\": 0}, {\"id\": \"768983512\", \"nome\": \"PICANHA PUL B\", \"codigo\": \"PICPUB\", \"unidade\": \"kg\", \"estoque_minimo\": 0.0, \"slug\": \"Picanha\", \"estoque\": 0}, {\"id\": \"623450527\", \"nome\": \"PICANHA PULL A\", \"codigo\": \"PICAPULLA\", \"unidade\": \"kg\", \"estoque_minimo\": 10.0, \"slug\": \"Picanha\", \"estoque\": 0}, {\"id\": \"797788298\", \"nome\": \"PICANHA SANTA GIULIA\", \"codigo\": \"PICSTGIU\", \"unidade\": \"kg\", \"estoque_minimo\": 0.0, \"slug\": \"Picanha\", \"estoque\": 1.45}, {\"id\": \"778208806\", \"nome\": \"PICANHA SUINA ALIMENTAR\", \"codigo\": \"PICSUIALI\", \"unidade\": \"kg\", \"estoque_minimo\": 0.0, \"slug\": \"Picanha\", \"estoque\": 0}, {\"id\": \"623450540\", \"nome\": \"PICANHA SU\\\\u00cdNA CIA CARNE\", \"codigo\": \"PICSUICIAC\", \"unidade\": \"kg\", \"estoque_minimo\": 0.0, \"slug\": \"Picanha\", \"estoque\": 2.94}, {\"id\": \"643787433\", \"nome\": \"PICANHA SUINA MELLORE\", \"codigo\": \"PICSUIMEL\", \"unidade\": \"kg\", \"estoque_minimo\": 0.0, \"slug\": \"Picanha\", \"estoque\": 0}, {\"id\": \"769851535\", \"nome\": \"PICANHA SU\\\\u00cdNA SAUDALI\", \"codigo\": \"PICSUISDL\", \"unidade\": \"kg\", \"estoque_minimo\": 0.0, \"slug\": \"Picanha\", \"estoque\": 23.27}, {\"id\": \"623450553\", \"nome\": \"PICANHA SU\\\\u00cdNA SCHROEDER\", \"codigo\": \"PICSUISCHR\", \"unidade\": \"kg\", \"estoque_minimo\": 5.0, \"slug\": \"Picanha\", \"estoque\": 0}, {\"id\": \"777808809\", \"nome\": \"PICANHA SU\\\\u00cdNA TEMPERATA\", \"codigo\": \"PICSTEMP\", \"unidade\": \"kg\", \"estoque_minimo\": 0.0, \"slug\": \"Picanha\", \"estoque\": 0}, {\"id\": \"623450568\", \"nome\": \"PICANHA TACUAREMB\\\\u00d3\", \"codigo\": \"PICTACUA\", \"unidade\": \"kg\", \"estoque_minimo\": 3.0, \"slug\": \"Picanha\", \"estoque\": 1.14}, {\"id\": \"687343884\", \"nome\": \"PICOL\\\\u00c9 MINEIRO BBQ\", \"codigo\": \"PCLMINRBBBQ\", \"unidade\": \"un\", \"estoque_minimo\": 4.0, \"slug\": \"Picol\\\\u00e9 Mineiro\", \"estoque\": 0}, {\"id\": \"687345363\", \"nome\": \"PICOL\\\\u00c9 MINEIRO ERVAS FINAS\", \"codigo\": \"PCLMINRBEF\", \"unidade\": \"un\", \"estoque_minimo\": 4.0, \"slug\": \"Picol\\\\u00e9 Mineiro\", \"estoque\": 13}, {\"id\": \"623450585\", \"nome\": \"PORCHETTA\", \"codigo\": \"PORCHRB\", \"unidade\": \"kg\", \"estoque_minimo\": 2.0, \"slug\": \"Porchetta\", \"estoque\": 4}, {\"id\": \"687338443\", \"nome\": \"PORTERHOUSE CARA PRETA\", \"codigo\": \"PORTHOUSCP\", \"unidade\": \"kg\", \"estoque_minimo\": 2.0, \"slug\": \"Porterhouse\", \"estoque\": 8.21}, {\"id\": \"647280665\", \"nome\": \"PRIME RIB RARO\", \"codigo\": \"PRMRIBRARO\", \"unidade\": \"kg\", \"estoque_minimo\": 0.0, \"slug\": \"Prime Rib\", \"estoque\": 0}, {\"id\": \"623450611\", \"nome\": \"SALSICH\\\\u00c3O\", \"codigo\": \"SALSIGAT\", \"unidade\": \"kg\", \"estoque_minimo\": 3.0, \"slug\": \"Salsich\\\\u00e3o\", \"estoque\": 12.5}, {\"id\": \"623450624\", \"nome\": \"SALSICH\\\\u00c3O COM QUEIJO\", \"codigo\": \"SALSIQUESCHR\", \"unidade\": \"un\", \"estoque_minimo\": 10.0, \"slug\": \"Salsich\\\\u00e3o\", \"estoque\": 7}, {\"id\": \"623450740\", \"nome\": \"SHORT RIB ARG\", \"codigo\": \"SHRTARG\", \"unidade\": \"kg\", \"estoque_minimo\": 5.0, \"slug\": \"Short Rib\", \"estoque\": 0}, {\"id\": \"623450753\", \"nome\": \"SHORT RIB CARA PRETA\", \"codigo\": \"SHRTCP\", \"unidade\": \"kg\", \"estoque_minimo\": 3.0, \"slug\": \"Short Rib\", \"estoque\": 0}, {\"id\": \"640758281\", \"nome\": \"SHORT RIB RARO\", \"codigo\": \"SHRTRIBRARO\", \"unidade\": \"kg\", \"estoque_minimo\": 0.0, \"slug\": \"Short Rib\", \"estoque\": 0}, {\"id\": \"623450765\", \"nome\": \"SOBRECOXA DESOSSADA NA CERVEJA\", \"codigo\": \"SOBREGAT\", \"unidade\": \"kg\", \"estoque_minimo\": 12.0, \"slug\": \"Sobrecoxa Desossada\", \"estoque\": 13}, {\"id\": \"626670053\", \"nome\": \"SOBRECOXA DESOSSADA PORC\\\\u00c3O\", \"codigo\": \"SOBRPRC\", \"unidade\": \"kg\", \"estoque_minimo\": 0.0, \"slug\": \"Sobrecoxa Desossada\", \"estoque\": 0}, {\"id\": \"692082492\", \"nome\": \"STEAK DE LOMBO\", \"codigo\": \"STKLOMBDIA\", \"unidade\": \"kg\", \"estoque_minimo\": 2.0, \"slug\": \"Steak\", \"estoque\": 0}, {\"id\": \"623585662\", \"nome\": \"T-BONE CARA PRETA\", \"codigo\": \"TBONECP\", \"unidade\": \"kg\", \"estoque_minimo\": 2.0, \"slug\": \"T-Bone\", \"estoque\": 2.22}, {\"id\": \"638867885\", \"nome\": \"T-BONE MINERVA ANGUS\", \"codigo\": \"TBONMINE\", \"unidade\": \"kg\", \"estoque_minimo\": 5.0, \"slug\": \"T-Bone\", \"estoque\": 0}, {\"id\": \"640758272\", \"nome\": \"T-BONE RARO\", \"codigo\": \"TBNERARO\", \"unidade\": \"kg\", \"estoque_minimo\": 0.0, \"slug\": \"T-Bone\", \"estoque\": 0}, {\"id\": \"623450791\", \"nome\": \"TOMAHAWK CARA PRETA\", \"codigo\": \"TOMACP\", \"unidade\": \"kg\", \"estoque_minimo\": 2.0, \"slug\": \"Tomahawk\", \"estoque\": 0}, {\"id\": \"647280670\", \"nome\": \"TOMAHAWK RARO\", \"codigo\": \"TOMARARO\", \"unidade\": \"kg\", \"estoque_minimo\": 0.0, \"slug\": \"Tomahawk\", \"estoque\": 0}, {\"id\": \"769175229\", \"nome\": \"TULIPA\", \"codigo\": \"TLPA\", \"unidade\": \"un\", \"estoque_minimo\": 0.0, \"slug\": \"Tulipa\", \"estoque\": 14}]'"
      ]
     },
     "execution_count": 224,
     "metadata": {},
     "output_type": "execute_result"
    }
   ],
   "source": [
    "produtos_post = produtos_formatados.to_dict(orient='records')\n",
    "json.dumps(produtos_post)"
   ]
  },
  {
   "cell_type": "markdown",
   "metadata": {},
   "source": [
    "## Estoque"
   ]
  },
  {
   "cell_type": "code",
   "execution_count": null,
   "metadata": {},
   "outputs": [],
   "source": [
    "produtos_estoque = produtos_formatados\n",
    "estoque = list()\n",
    "for id in produtos_estoque['id']:\n",
    "    data = {\n",
    "        'formato': 'json',\n",
    "        'token': '2b6fc7102240cedcc9166c43921ea73eea82b876',\n",
    "        'id': id\n",
    "    }\n",
    "    try:\n",
    "        estoque += [requests.post(url='https://api.tiny.com.br/api2/produto.obter.estoque.php', data=data).json()['retorno']['produto']['saldo']]\n",
    "    except:\n",
    "        sleep(60)\n",
    "        estoque += [requests.post(url='https://api.tiny.com.br/api2/produto.obter.estoque.php', data=data).json()['retorno']['produto']]\n",
    "produtos_estoque['estoque'] = estoque\n",
    "produtos_estoque.drop(['codigo', 'unidade', 'estoque_minimo', 'slug'], axis=1, inplace=True)"
   ]
  },
  {
   "cell_type": "markdown",
   "metadata": {},
   "source": [
    "Conversão para POST"
   ]
  },
  {
   "cell_type": "code",
   "execution_count": 231,
   "metadata": {},
   "outputs": [
    {
     "data": {
      "text/plain": [
       "'[{\"id\": \"623449734\", \"nome\": \"ALCATRA COM QUEIJO\", \"estoque\": 14.49}, {\"id\": \"623449795\", \"nome\": \"ALM\\\\u00d4NDEGA BACON\", \"estoque\": 0}, {\"id\": \"623449782\", \"nome\": \"ALM\\\\u00d4NDEGA QUEIJO\", \"estoque\": 0}, {\"id\": \"778208483\", \"nome\": \"ANCHO ALIMENTAR\", \"estoque\": 0}, {\"id\": \"646749750\", \"nome\": \"ANCHO DI PRIMA\", \"estoque\": 0}, {\"id\": \"729652533\", \"nome\": \"ANCHO MINERVA\", \"estoque\": 0}, {\"id\": \"638403161\", \"nome\": \"ANCHO MONTANA STEAKHOUSE\", \"estoque\": 20.01}, {\"id\": \"623449824\", \"nome\": \"ASINHA RECHEADA\", \"estoque\": 7}, {\"id\": \"623449837\", \"nome\": \"ASSADO DE TIRAS ARG\", \"estoque\": 0}, {\"id\": \"661843960\", \"nome\": \"BACON FATIADO\", \"estoque\": 0}, {\"id\": \"649329262\", \"nome\": \"BUTCHER STEAK PORCAO\", \"estoque\": 0}, {\"id\": \"733149637\", \"nome\": \"CARPACCIO CARA PRETA\", \"estoque\": 0}, {\"id\": \"659216777\", \"nome\": \"CARR\\\\u00c9 CORDEIRO 1953\", \"estoque\": 0}, {\"id\": \"623449886\", \"nome\": \"CHORIZO EST\\\\u00c2NCIA 92\", \"estoque\": 10.88}, {\"id\": \"623449902\", \"nome\": \"CORA\\\\u00c7\\\\u00c3O\", \"estoque\": 6.5}, {\"id\": \"692081848\", \"nome\": \"COSTELINHA DIA A DIA\", \"estoque\": 0}, {\"id\": \"623449926\", \"nome\": \"COSTELINHA SU\\\\u00cdNA BBQ\", \"estoque\": 5}, {\"id\": \"706381781\", \"nome\": \"COWBOY CARA PRETA\", \"estoque\": 0.64}, {\"id\": \"623449932\", \"nome\": \"COXINHA DA ASA\", \"estoque\": 19}, {\"id\": \"623449946\", \"nome\": \"DENVER CARA PRETA\", \"estoque\": 0}, {\"id\": \"794828451\", \"nome\": \"FRALDA MINERVA\", \"estoque\": 0}, {\"id\": \"773934587\", \"nome\": \"FRALD\\\\u00c3O BURG\", \"estoque\": 0}, {\"id\": \"770209199\", \"nome\": \"FRALD\\\\u00c3O URUGUAIO ESTER\", \"estoque\": 1.91}, {\"id\": \"778208038\", \"nome\": \"FRALDINHA ALIMENTAR\", \"estoque\": 0}, {\"id\": \"791977192\", \"nome\": \"FRALDINHA BASSI\", \"estoque\": 0}, {\"id\": \"663063892\", \"nome\": \"FRALDINHA CARA PRETA\", \"estoque\": 2.68}, {\"id\": \"623449970\", \"nome\": \"FRALDINHA EST\\\\u00c2NCIA 92\", \"estoque\": 0}, {\"id\": \"744114547\", \"nome\": \"FRALDINHA LS\", \"estoque\": 0}, {\"id\": \"767806291\", \"nome\": \"FRALDINHA MATABOI\", \"estoque\": 0}, {\"id\": \"799895288\", \"nome\": \"FRALDINHA MINERVA\", \"estoque\": 0}, {\"id\": \"664322273\", \"nome\": \"FRALDINHA MONTANA STEAKHOUSE\", \"estoque\": 8.37}, {\"id\": \"638432052\", \"nome\": \"FRALDINHA RED RARO\", \"estoque\": 0}, {\"id\": \"623449997\", \"nome\": \"HAMBURGUER CARA PRETA\", \"estoque\": 5}, {\"id\": \"789712012\", \"nome\": \"HAMBURGUER DE TIL\\\\u00c1PIA\", \"estoque\": 16}, {\"id\": \"623450013\", \"nome\": \"KAFTA CHEDDAR\", \"estoque\": 6}, {\"id\": \"649329268\", \"nome\": \"LINGUI\\\\u00c7A  DE PERNIL PORC\\\\u00c3O\", \"estoque\": 0}, {\"id\": \"785293008\", \"nome\": \"LINGUI\\\\u00c7A ARTESANAL DE TIL\\\\u00c1PIA\", \"estoque\": 16}, {\"id\": \"623450189\", \"nome\": \"LINGUI\\\\u00c7A CASEIRA BRAZAS BACON\", \"estoque\": 4.5}, {\"id\": \"623450199\", \"nome\": \"LINGUI\\\\u00c7A CASEIRA BRAZAS BACON, QUEIJO E ALHO POR\\\\u00d3\", \"estoque\": 0}, {\"id\": \"800868965\", \"nome\": \"LINGUI\\\\u00c7A CASEIRA BRAZAS FRANGO\", \"estoque\": 0}, {\"id\": \"623450046\", \"nome\": \"LINGUI\\\\u00c7A CASEIRA BRAZAS PIMENTA\", \"estoque\": 3.5}, {\"id\": \"623450182\", \"nome\": \"LINGUI\\\\u00c7A CASEIRA BRAZAS PIMENTA BIQUINHO\", \"estoque\": 4}, {\"id\": \"623450205\", \"nome\": \"LINGUI\\\\u00c7A CASEIRA BRAZAS PROVOLONE\", \"estoque\": 5}, {\"id\": \"623450210\", \"nome\": \"LINGUI\\\\u00c7A CASEIRA BRAZAS TRADICIONAL\", \"estoque\": 6.5}, {\"id\": \"623450220\", \"nome\": \"LINGUI\\\\u00c7A CUIABANA\", \"estoque\": 0}, {\"id\": \"682500784\", \"nome\": \"LINGUI\\\\u00c7A DE CORDEIRO ARG\", \"estoque\": 0}, {\"id\": \"623450215\", \"nome\": \"LINGUI\\\\u00c7A DE COSTELA CARA PRETA\", \"estoque\": 0}, {\"id\": \"804981063\", \"nome\": \"LINGUI\\\\u00c7A DE PERNIL GARAPA\", \"estoque\": 0}, {\"id\": \"794827835\", \"nome\": \"MAMINHA MINERVA\", \"estoque\": 1.41}, {\"id\": \"653960156\", \"nome\": \"MAMINHA STEAK MARINADO\", \"estoque\": 0}, {\"id\": \"634824164\", \"nome\": \"MANTA SU\\\\u00cdNA BACON E CHEDDAR\", \"estoque\": 0}, {\"id\": \"623450225\", \"nome\": \"MANTA SU\\\\u00cdNA QUEIJO COALHO\", \"estoque\": 3}, {\"id\": \"623450236\", \"nome\": \"MEDALH\\\\u00c3O DE BATATA COM CHEDDAR\", \"estoque\": 5}, {\"id\": \"628882233\", \"nome\": \"MEDALH\\\\u00c3O SUINO\", \"estoque\": 0}, {\"id\": \"804677691\", \"nome\": \"P\\\\u00c3O DE FRANGO COM REQUEIJAO\", \"estoque\": 0}, {\"id\": \"786903341\", \"nome\": \"PICANHA ALIMENTAR\", \"estoque\": 0}, {\"id\": \"638379143\", \"nome\": \"PICANHA ANA PAULA BLACK ANGUS\", \"estoque\": 0}, {\"id\": \"623450327\", \"nome\": \"PICANHA ARREBEEF\", \"estoque\": {\"id\": \"623450327\", \"nome\": \"PICANHA ARREBEEF\", \"codigo\": \"PICARREB\", \"unidade\": \"kg\", \"saldo\": 0, \"depositos\": [{\"deposito\": {\"nome\": \"Geral\", \"desconsiderar\": \"N\", \"saldo\": 0, \"empresa\": \"Brazas\"}}]}}, {\"id\": \"766299129\", \"nome\": \"PICANHA ARROBA\", \"estoque\": 0}, {\"id\": \"623450340\", \"nome\": \"PICANHA BASSI\", \"estoque\": 9.56}, {\"id\": \"630551037\", \"nome\": \"PICANHA BRAZAS\", \"estoque\": 13.02}, {\"id\": \"623450354\", \"nome\": \"PICANHA CARA PRETA\", \"estoque\": 7.82}, {\"id\": \"737002822\", \"nome\": \"PICANHA CONCARSA\", \"estoque\": 0}, {\"id\": \"774269426\", \"nome\": \"PICANHA CRUZEIRO DO SUL\", \"estoque\": 14.82}, {\"id\": \"623450374\", \"nome\": \"PICANHA DI PRIMA\", \"estoque\": 0}, {\"id\": \"733415440\", \"nome\": \"PICANHA FINEXCOR\", \"estoque\": 0}, {\"id\": \"637005194\", \"nome\": \"PICANHA FRIGOCHACO\", \"estoque\": 0}, {\"id\": \"795400098\", \"nome\": \"PICANHA FRIGOMERC\", \"estoque\": 0}, {\"id\": \"777807737\", \"nome\": \"PICANHA FRIPAI\", \"estoque\": 1.33}, {\"id\": \"626302922\", \"nome\": \"PICANHA GORINA\", \"estoque\": 0}, {\"id\": \"723855204\", \"nome\": \"PICANHA GUARANI\", \"estoque\": 0}, {\"id\": \"623450496\", \"nome\": \"PICANHA MATABOI\", \"estoque\": 0}, {\"id\": \"794829708\", \"nome\": \"PICANHA MINERVA\", \"estoque\": 0}, {\"id\": \"801868011\", \"nome\": \"PICANHA PARAGUAIA\", \"estoque\": 0}, {\"id\": \"768983512\", \"nome\": \"PICANHA PUL B\", \"estoque\": 0}, {\"id\": \"623450527\", \"nome\": \"PICANHA PULL A\", \"estoque\": 0}, {\"id\": \"797788298\", \"nome\": \"PICANHA SANTA GIULIA\", \"estoque\": 1.45}, {\"id\": \"778208806\", \"nome\": \"PICANHA SUINA ALIMENTAR\", \"estoque\": 0}, {\"id\": \"623450540\", \"nome\": \"PICANHA SU\\\\u00cdNA CIA CARNE\", \"estoque\": 2.94}, {\"id\": \"643787433\", \"nome\": \"PICANHA SUINA MELLORE\", \"estoque\": 0}, {\"id\": \"769851535\", \"nome\": \"PICANHA SU\\\\u00cdNA SAUDALI\", \"estoque\": 23.27}, {\"id\": \"623450553\", \"nome\": \"PICANHA SU\\\\u00cdNA SCHROEDER\", \"estoque\": 0}, {\"id\": \"777808809\", \"nome\": \"PICANHA SU\\\\u00cdNA TEMPERATA\", \"estoque\": 0}, {\"id\": \"623450568\", \"nome\": \"PICANHA TACUAREMB\\\\u00d3\", \"estoque\": 1.14}, {\"id\": \"687343884\", \"nome\": \"PICOL\\\\u00c9 MINEIRO BBQ\", \"estoque\": 0}, {\"id\": \"687345363\", \"nome\": \"PICOL\\\\u00c9 MINEIRO ERVAS FINAS\", \"estoque\": 13}, {\"id\": \"623450585\", \"nome\": \"PORCHETTA\", \"estoque\": 4}, {\"id\": \"687338443\", \"nome\": \"PORTERHOUSE CARA PRETA\", \"estoque\": 8.21}, {\"id\": \"647280665\", \"nome\": \"PRIME RIB RARO\", \"estoque\": 0}, {\"id\": \"623450611\", \"nome\": \"SALSICH\\\\u00c3O\", \"estoque\": 12.5}, {\"id\": \"623450624\", \"nome\": \"SALSICH\\\\u00c3O COM QUEIJO\", \"estoque\": 7}, {\"id\": \"623450740\", \"nome\": \"SHORT RIB ARG\", \"estoque\": 0}, {\"id\": \"623450753\", \"nome\": \"SHORT RIB CARA PRETA\", \"estoque\": 0}, {\"id\": \"640758281\", \"nome\": \"SHORT RIB RARO\", \"estoque\": 0}, {\"id\": \"623450765\", \"nome\": \"SOBRECOXA DESOSSADA NA CERVEJA\", \"estoque\": 13}, {\"id\": \"626670053\", \"nome\": \"SOBRECOXA DESOSSADA PORC\\\\u00c3O\", \"estoque\": 0}, {\"id\": \"692082492\", \"nome\": \"STEAK DE LOMBO\", \"estoque\": 0}, {\"id\": \"623585662\", \"nome\": \"T-BONE CARA PRETA\", \"estoque\": 2.22}, {\"id\": \"638867885\", \"nome\": \"T-BONE MINERVA ANGUS\", \"estoque\": 0}, {\"id\": \"640758272\", \"nome\": \"T-BONE RARO\", \"estoque\": 0}, {\"id\": \"623450791\", \"nome\": \"TOMAHAWK CARA PRETA\", \"estoque\": 0}, {\"id\": \"647280670\", \"nome\": \"TOMAHAWK RARO\", \"estoque\": 0}, {\"id\": \"769175229\", \"nome\": \"TULIPA\", \"estoque\": 14}]'"
      ]
     },
     "execution_count": 231,
     "metadata": {},
     "output_type": "execute_result"
    }
   ],
   "source": [
    "estoque_post = produtos_estoque.to_dict(orient='records')\n",
    "json.dumps(estoque_post)"
   ]
  }
 ],
 "metadata": {
  "interpreter": {
   "hash": "ad2bdc8ecc057115af97d19610ffacc2b4e99fae6737bb82f5d7fb13d2f2c186"
  },
  "kernelspec": {
   "display_name": "Python 3.8.8 ('base')",
   "language": "python",
   "name": "python3"
  },
  "language_info": {
   "codemirror_mode": {
    "name": "ipython",
    "version": 3
   },
   "file_extension": ".py",
   "mimetype": "text/x-python",
   "name": "python",
   "nbconvert_exporter": "python",
   "pygments_lexer": "ipython3",
   "version": "3.8.8"
  },
  "orig_nbformat": 4
 },
 "nbformat": 4,
 "nbformat_minor": 2
}
