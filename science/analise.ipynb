{
 "cells": [
  {
   "cell_type": "code",
   "execution_count": 83,
   "metadata": {},
   "outputs": [],
   "source": [
    "import pandas as pd\n",
    "import numpy as np\n",
    "import requests\n",
    "from datetime import datetime, timedelta\n",
    "import matplotlib.pyplot as plt\n",
    "\n",
    "pd.options.display.max_rows = 30\n",
    "\n",
    "two_months_ago = datetime.today() - timedelta(weeks=4)\n",
    "two_months_foward = datetime.today() + timedelta(weeks=4)"
   ]
  },
  {
   "cell_type": "markdown",
   "metadata": {},
   "source": [
    "## Produtos"
   ]
  },
  {
   "cell_type": "code",
   "execution_count": 84,
   "metadata": {},
   "outputs": [],
   "source": [
    "# produtos\n",
    "produtos = requests.get('http://127.0.0.1:5000/produtos').json()"
   ]
  },
  {
   "cell_type": "markdown",
   "metadata": {},
   "source": [
    "## Pedido"
   ]
  },
  {
   "cell_type": "code",
   "execution_count": 85,
   "metadata": {},
   "outputs": [],
   "source": [
    "# pedido\n",
    "pedido = pd.read_json('pedido.json')\n",
    "pedido['valorfinal'] = pd.to_numeric([x.split()[1] for x in pedido['valorfinal']])\n",
    "pedido = pd.pivot_table(pedido, values=['valorfinal'], index='marca', aggfunc='sum').reset_index()\n",
    "pedido.columns = ['marca', 'total']"
   ]
  },
  {
   "cell_type": "code",
   "execution_count": 86,
   "metadata": {},
   "outputs": [],
   "source": [
    "# prazos\n",
    "prazos = pd.read_csv('prazos.csv')\n",
    "prazos.columns = ['marca',1,2,3]\n",
    "prazos['n_parcelas'] = 3 - prazos.T.isna().sum()\n",
    "prazos = prazos.merge(pedido)"
   ]
  },
  {
   "cell_type": "code",
   "execution_count": 87,
   "metadata": {},
   "outputs": [],
   "source": [
    "# agenda\n",
    "agenda = prazos.copy()\n",
    "agenda\n",
    "for parcela in [1,2,3]:\n",
    "    agenda[parcela] = [datetime.today() + timedelta(days=x) if x > 0 else None for x in prazos[parcela]]\n",
    "agenda['valor'] = agenda['total']/agenda['n_parcelas']\n",
    "agenda = agenda.melt(id_vars=['marca', 'valor'], value_vars=[1,2,3], value_name='data', var_name='parcela').dropna()\n",
    "agenda['semana'] = [x.isocalendar()[1] for x in agenda['data']]"
   ]
  },
  {
   "cell_type": "code",
   "execution_count": 88,
   "metadata": {},
   "outputs": [],
   "source": [
    "# peso\n",
    "peso = agenda.copy()\n",
    "peso = pd.pivot_table(agenda, index=peso['data'], aggfunc='sum').reset_index()"
   ]
  },
  {
   "cell_type": "markdown",
   "metadata": {},
   "source": [
    "## Situação"
   ]
  },
  {
   "cell_type": "code",
   "execution_count": 89,
   "metadata": {},
   "outputs": [],
   "source": [
    "# contas\n",
    "vendas = list()\n",
    "data = {\n",
    "    'formato': 'json',\n",
    "    'token': '2b6fc7102240cedcc9166c43921ea73eea82b876',\n",
    "    'dataInicial': two_months_ago.strftime('%d/%m/%Y'),\n",
    "    'dataFinal': datetime.today().strftime('%d/%m/%Y'),\n",
    "    'pagina': 1\n",
    "}\n",
    "while True:\n",
    "    try:\n",
    "\n",
    "        url = 'https://api.tiny.com.br/api2/pedidos.pesquisa.php'\n",
    "        vendas += [x['pedido'] for x in requests.post(url, data).json()['retorno']['pedidos']]\n",
    "        data['pagina'] += 1\n",
    "    except:\n",
    "        break\n",
    "vendas = pd.DataFrame(vendas)\n"
   ]
  },
  {
   "cell_type": "code",
   "execution_count": 90,
   "metadata": {},
   "outputs": [],
   "source": [
    "# faturamento diário\n",
    "faturamento_estimado = vendas['valor'].sum()/30"
   ]
  },
  {
   "cell_type": "code",
   "execution_count": 91,
   "metadata": {},
   "outputs": [],
   "source": [
    "# contas\n",
    "contas = list()\n",
    "data = {\n",
    "    'formato': 'json',\n",
    "    'token': '2b6fc7102240cedcc9166c43921ea73eea82b876',\n",
    "    'data_ini_vencimento': datetime.today().strftime('%d/%m/%Y'),\n",
    "    'data_fim_vencimento': agenda['data'].max().strftime('%d/%m/%Y'),\n",
    "    'pagina': 1\n",
    "}\n",
    "while True:\n",
    "    try:\n",
    "        url = 'https://api.tiny.com.br/api2/contas.pagar.pesquisa.php'\n",
    "        contas += [x['conta'] for x in requests.post(url, data).json()['retorno']['contas']]\n",
    "        data['pagina'] += 1\n",
    "    except:\n",
    "        break\n",
    "contas = pd.DataFrame(contas)\n",
    "contas = contas.T.reindex(['data_vencimento', 'valor']).T\n",
    "contas.columns = ['data', 'valor']\n",
    "contas['data'] = [datetime.strptime(x, '%d/%m/%Y') for x in contas['data']]"
   ]
  },
  {
   "cell_type": "code",
   "execution_count": 92,
   "metadata": {},
   "outputs": [],
   "source": [
    "# saldo\n",
    "saldo = pd.DataFrame(contas['data'])\n",
    "saldo['valor'] = np.repeat(faturamento_estimado, len(contas)) - pd.to_numeric(contas['valor'])"
   ]
  },
  {
   "cell_type": "markdown",
   "metadata": {},
   "source": [
    "## Divisão por semanas"
   ]
  },
  {
   "cell_type": "code",
   "execution_count": 93,
   "metadata": {},
   "outputs": [],
   "source": [
    "# saldo\n",
    "saldo_semanal = saldo.copy()\n",
    "saldo_semanal['semana'] = [x.isocalendar()[1] for x in saldo['data']]\n",
    "saldo_semanal = pd.pivot_table(saldo_semanal, index='semana', values='valor', aggfunc='sum')"
   ]
  },
  {
   "cell_type": "code",
   "execution_count": 94,
   "metadata": {},
   "outputs": [],
   "source": [
    "# compras\n",
    "peso_semanal = peso.copy()\n",
    "peso_semanal['semana'] = [x.isocalendar()[1] for x in peso['data']]\n",
    "peso_semanal = pd.pivot_table(peso_semanal, index='semana', values='valor', aggfunc='sum')"
   ]
  },
  {
   "cell_type": "markdown",
   "metadata": {},
   "source": [
    "## analise"
   ]
  },
  {
   "cell_type": "code",
   "execution_count": 139,
   "metadata": {},
   "outputs": [],
   "source": [
    "# analise\n",
    "def rweek(semana):\n",
    "    return datetime.fromisocalendar(datetime.today().year, semana, 1), datetime.fromisocalendar(datetime.today().year, semana, 7)\n",
    "\n",
    "analise = peso_semanal.join(saldo_semanal, lsuffix='_compras',rsuffix='_saldo').fillna(faturamento_estimado*7)\n",
    "analise['subtracao'] = analise['valor_saldo'] - analise['valor_compras']\n",
    "analise['intervalo'] = [rweek(x) for x in analise.index]\n",
    "analise['aprovado'] = [x > 0 for x in analise['subtracao']]\n",
    "analise.reset_index(inplace=True)\n",
    "analise = analise.T.reindex(['aprovado', 'intervalo', 'subtracao', 'valor_compras', 'valor_saldo', 'semana']).T"
   ]
  },
  {
   "cell_type": "code",
   "execution_count": 112,
   "metadata": {},
   "outputs": [],
   "source": [
    "# negadas\n",
    "negadas = analise[analise['aprovado'] == False]\n",
    "negadas = negadas.merge(agenda)\n",
    "negadas = negadas.T.reindex(['marca', 'data', 'valor']).T"
   ]
  },
  {
   "cell_type": "markdown",
   "metadata": {},
   "source": [
    "## Formatacao"
   ]
  },
  {
   "cell_type": "code",
   "execution_count": 97,
   "metadata": {},
   "outputs": [
    {
     "data": {
      "text/plain": [
       "Text(0.5, 1.0, 'Compras')"
      ]
     },
     "execution_count": 97,
     "metadata": {},
     "output_type": "execute_result"
    },
    {
     "data": {
      "image/png": "[encoded data removed]",
      "text/plain": [
       "<Figure size 432x288 with 1 Axes>"
      ]
     },
     "metadata": {
      "needs_background": "light"
     },
     "output_type": "display_data"
    }
   ],
   "source": [
    "x, y = analise.index, analise['subtracao']\n",
    "\n",
    "plt.bar(x, y)\n",
    "plt.title('Compras')"
   ]
  },
  {
   "cell_type": "markdown",
   "metadata": {},
   "source": [
    "## Plotagem"
   ]
  },
  {
   "cell_type": "code",
   "execution_count": 148,
   "metadata": {},
   "outputs": [
    {
     "data": {
      "text/html": [
       "<div>\n",
       "<style scoped>\n",
       "    .dataframe tbody tr th:only-of-type {\n",
       "        vertical-align: middle;\n",
       "    }\n",
       "\n",
       "    .dataframe tbody tr th {\n",
       "        vertical-align: top;\n",
       "    }\n",
       "\n",
       "    .dataframe thead th {\n",
       "        text-align: right;\n",
       "    }\n",
       "</style>\n",
       "<table border=\"1\" class=\"dataframe\">\n",
       "  <thead>\n",
       "    <tr style=\"text-align: right;\">\n",
       "      <th></th>\n",
       "      <th>marca</th>\n",
       "      <th>data</th>\n",
       "      <th>valor</th>\n",
       "    </tr>\n",
       "  </thead>\n",
       "  <tbody>\n",
       "    <tr>\n",
       "      <th>0</th>\n",
       "      <td>Alimentar</td>\n",
       "      <td>2022-06-12 21:14:25.264021</td>\n",
       "      <td>21709.0</td>\n",
       "    </tr>\n",
       "    <tr>\n",
       "      <th>1</th>\n",
       "      <td>Di Prima</td>\n",
       "      <td>2022-06-12 21:14:25.264021</td>\n",
       "      <td>199.5</td>\n",
       "    </tr>\n",
       "    <tr>\n",
       "      <th>2</th>\n",
       "      <td>Minerva</td>\n",
       "      <td>2022-06-12 21:14:25.264021</td>\n",
       "      <td>26689.333333</td>\n",
       "    </tr>\n",
       "    <tr>\n",
       "      <th>3</th>\n",
       "      <td>Minerva</td>\n",
       "      <td>2022-06-26 21:14:25.265049</td>\n",
       "      <td>26689.333333</td>\n",
       "    </tr>\n",
       "  </tbody>\n",
       "</table>\n",
       "</div>"
      ],
      "text/plain": [
       "       marca                       data         valor\n",
       "0  Alimentar 2022-06-12 21:14:25.264021       21709.0\n",
       "1   Di Prima 2022-06-12 21:14:25.264021         199.5\n",
       "2    Minerva 2022-06-12 21:14:25.264021  26689.333333\n",
       "3    Minerva 2022-06-26 21:14:25.265049  26689.333333"
      ]
     },
     "execution_count": 148,
     "metadata": {},
     "output_type": "execute_result"
    }
   ],
   "source": [
    "negadas"
   ]
  },
  {
   "cell_type": "code",
   "execution_count": 161,
   "metadata": {},
   "outputs": [
    {
     "data": {
      "text/plain": [
       "'{\"analise\": [{\"aprovado\": false, \"intervalo\": [\"06/06/2022\", \"12/06/2022\"], \"subtracao\": -41785.05933333333, \"valor_compras\": 48597.83333333333, \"valor_saldo\": 6812.774, \"semana\": 23}, {\"aprovado\": true, \"intervalo\": [\"13/06/2022\", \"19/06/2022\"], \"subtracao\": 1292.172666666669, \"valor_compras\": 26689.333333333332, \"valor_saldo\": 27981.506, \"semana\": 24}, {\"aprovado\": false, \"intervalo\": [\"20/06/2022\", \"26/06/2022\"], \"subtracao\": -16790.58933333333, \"valor_compras\": 26689.333333333332, \"valor_saldo\": 9898.744, \"semana\": 25}], \"negadas\": [{\"marca\": \"Alimentar\", \"data\": \"12/06/2022\", \"valor\": 21709.0}, {\"marca\": \"Di Prima\", \"data\": \"12/06/2022\", \"valor\": 199.5}, {\"marca\": \"Minerva\", \"data\": \"12/06/2022\", \"valor\": 26689.333333333332}, {\"marca\": \"Minerva\", \"data\": \"26/06/2022\", \"valor\": 26689.333333333332}], \"valor\": 75287.16666666666}'"
      ]
     },
     "execution_count": 161,
     "metadata": {},
     "output_type": "execute_result"
    }
   ],
   "source": [
    "negadas_f = negadas.copy()\n",
    "negadas_f['data'] = [x.strftime('%d/%m/%Y') for x in negadas['data']]\n",
    "negadas_f.to_dict(orient='records')\n",
    "\n",
    "analise_f = analise.copy()\n",
    "analise_f['intervalo'] = [[x[0].strftime('%d/%m/%Y'), x[1].strftime('%d/%m/%Y')] for x in analise_f['intervalo']]\n",
    "\n",
    "resultado = {'analise': analise_f.to_dict(orient='records'), 'negadas': negadas_f.to_dict(orient='records'), 'valor': negadas['valor'].sum()}\n",
    "\n",
    "import json\n",
    "\n",
    "json.dumps(resultado)"
   ]
  }
 ],
 "metadata": {
  "interpreter": {
   "hash": "ad2bdc8ecc057115af97d19610ffacc2b4e99fae6737bb82f5d7fb13d2f2c186"
  },
  "kernelspec": {
   "display_name": "Python 3.8.8 ('base')",
   "language": "python",
   "name": "python3"
  },
  "language_info": {
   "codemirror_mode": {
    "name": "ipython",
    "version": 3
   },
   "file_extension": ".py",
   "mimetype": "text/x-python",
   "name": "python",
   "nbconvert_exporter": "python",
   "pygments_lexer": "ipython3",
   "version": "3.8.8"
  },
  "orig_nbformat": 4
 },
 "nbformat": 4,
 "nbformat_minor": 2
}
