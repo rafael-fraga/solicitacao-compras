{
 "cells": [
  {
   "cell_type": "code",
   "execution_count": 606,
   "metadata": {},
   "outputs": [],
   "source": [
    "import pandas as pd\n",
    "import numpy as np\n",
    "import requests\n",
    "from datetime import datetime, timedelta\n",
    "import matplotlib.pyplot as plt\n",
    "\n",
    "pd.options.display.max_rows = 30\n",
    "\n",
    "two_months_ago = datetime.today() - timedelta(weeks=4)\n",
    "two_months_foward = datetime.today() + timedelta(weeks=4)"
   ]
  },
  {
   "cell_type": "markdown",
   "metadata": {},
   "source": [
    "## Reformatação Teste"
   ]
  },
  {
   "cell_type": "code",
   "execution_count": 607,
   "metadata": {},
   "outputs": [],
   "source": [
    "produtos = requests.get('http://127.0.0.1:5000/produtos').json()"
   ]
  },
  {
   "cell_type": "markdown",
   "metadata": {},
   "source": [
    "## Test Data Reformat"
   ]
  },
  {
   "cell_type": "code",
   "execution_count": 608,
   "metadata": {},
   "outputs": [],
   "source": [
    "pedido = produtos[5:30]\n",
    "pedido = pd.DataFrame(pedido)\n",
    "pedido['cotacao'] = 14.52\n",
    "pedido['quantidade'] = 4\n",
    "pedido.to_json('produtos.json', orient='records')"
   ]
  },
  {
   "cell_type": "markdown",
   "metadata": {},
   "source": [
    "## Get Pedido"
   ]
  },
  {
   "cell_type": "code",
   "execution_count": 609,
   "metadata": {},
   "outputs": [
    {
     "data": {
      "text/html": [
       "<div>\n",
       "<style scoped>\n",
       "    .dataframe tbody tr th:only-of-type {\n",
       "        vertical-align: middle;\n",
       "    }\n",
       "\n",
       "    .dataframe tbody tr th {\n",
       "        vertical-align: top;\n",
       "    }\n",
       "\n",
       "    .dataframe thead th {\n",
       "        text-align: right;\n",
       "    }\n",
       "</style>\n",
       "<table border=\"1\" class=\"dataframe\">\n",
       "  <thead>\n",
       "    <tr style=\"text-align: right;\">\n",
       "      <th></th>\n",
       "      <th>marca</th>\n",
       "      <th>total</th>\n",
       "    </tr>\n",
       "  </thead>\n",
       "  <tbody>\n",
       "    <tr>\n",
       "      <th>0</th>\n",
       "      <td>1953</td>\n",
       "      <td>58.08</td>\n",
       "    </tr>\n",
       "    <tr>\n",
       "      <th>1</th>\n",
       "      <td>ARG</td>\n",
       "      <td>58.08</td>\n",
       "    </tr>\n",
       "    <tr>\n",
       "      <th>2</th>\n",
       "      <td>Alimentar</td>\n",
       "      <td>58.08</td>\n",
       "    </tr>\n",
       "    <tr>\n",
       "      <th>3</th>\n",
       "      <td>Bassi</td>\n",
       "      <td>58.08</td>\n",
       "    </tr>\n",
       "    <tr>\n",
       "      <th>4</th>\n",
       "      <td>Burg</td>\n",
       "      <td>58.08</td>\n",
       "    </tr>\n",
       "    <tr>\n",
       "      <th>5</th>\n",
       "      <td>Cara Preta</td>\n",
       "      <td>232.32</td>\n",
       "    </tr>\n",
       "    <tr>\n",
       "      <th>6</th>\n",
       "      <td>Dia a Dia</td>\n",
       "      <td>58.08</td>\n",
       "    </tr>\n",
       "    <tr>\n",
       "      <th>7</th>\n",
       "      <td>Ester de Lima</td>\n",
       "      <td>58.08</td>\n",
       "    </tr>\n",
       "    <tr>\n",
       "      <th>8</th>\n",
       "      <td>Estância 92</td>\n",
       "      <td>116.16</td>\n",
       "    </tr>\n",
       "    <tr>\n",
       "      <th>9</th>\n",
       "      <td>Jerônimos</td>\n",
       "      <td>116.16</td>\n",
       "    </tr>\n",
       "    <tr>\n",
       "      <th>10</th>\n",
       "      <td>Mataboi</td>\n",
       "      <td>58.08</td>\n",
       "    </tr>\n",
       "    <tr>\n",
       "      <th>11</th>\n",
       "      <td>Minerva</td>\n",
       "      <td>174.24</td>\n",
       "    </tr>\n",
       "    <tr>\n",
       "      <th>12</th>\n",
       "      <td>Montana Steakhouse</td>\n",
       "      <td>58.08</td>\n",
       "    </tr>\n",
       "    <tr>\n",
       "      <th>13</th>\n",
       "      <td>Porcão</td>\n",
       "      <td>58.08</td>\n",
       "    </tr>\n",
       "    <tr>\n",
       "      <th>14</th>\n",
       "      <td>Recheados Brasil</td>\n",
       "      <td>116.16</td>\n",
       "    </tr>\n",
       "    <tr>\n",
       "      <th>15</th>\n",
       "      <td>Walls</td>\n",
       "      <td>58.08</td>\n",
       "    </tr>\n",
       "  </tbody>\n",
       "</table>\n",
       "</div>"
      ],
      "text/plain": [
       "                 marca   total\n",
       "0                 1953   58.08\n",
       "1                  ARG   58.08\n",
       "2            Alimentar   58.08\n",
       "3                Bassi   58.08\n",
       "4                 Burg   58.08\n",
       "5           Cara Preta  232.32\n",
       "6            Dia a Dia   58.08\n",
       "7        Ester de Lima   58.08\n",
       "8          Estância 92  116.16\n",
       "9            Jerônimos  116.16\n",
       "10             Mataboi   58.08\n",
       "11             Minerva  174.24\n",
       "12  Montana Steakhouse   58.08\n",
       "13              Porcão   58.08\n",
       "14    Recheados Brasil  116.16\n",
       "15               Walls   58.08"
      ]
     },
     "execution_count": 609,
     "metadata": {},
     "output_type": "execute_result"
    }
   ],
   "source": [
    "pedido = pd.read_json('produtos.json', orient='records')\n",
    "pedido['total'] = pedido['cotacao'] * pedido['quantidade']\n",
    "pedido = pedido[pedido['marca'] != '']\n",
    "pedido = pd.pivot_table(pedido, values=['total'], index='marca', aggfunc='sum').reset_index()\n",
    "\n",
    "pedido"
   ]
  },
  {
   "cell_type": "markdown",
   "metadata": {},
   "source": [
    "## Agendamento"
   ]
  },
  {
   "cell_type": "code",
   "execution_count": 610,
   "metadata": {},
   "outputs": [
    {
     "data": {
      "text/html": [
       "<div>\n",
       "<style scoped>\n",
       "    .dataframe tbody tr th:only-of-type {\n",
       "        vertical-align: middle;\n",
       "    }\n",
       "\n",
       "    .dataframe tbody tr th {\n",
       "        vertical-align: top;\n",
       "    }\n",
       "\n",
       "    .dataframe thead th {\n",
       "        text-align: right;\n",
       "    }\n",
       "</style>\n",
       "<table border=\"1\" class=\"dataframe\">\n",
       "  <thead>\n",
       "    <tr style=\"text-align: right;\">\n",
       "      <th></th>\n",
       "      <th>marca</th>\n",
       "      <th>1</th>\n",
       "      <th>2</th>\n",
       "      <th>3</th>\n",
       "      <th>n_parcelas</th>\n",
       "      <th>total</th>\n",
       "    </tr>\n",
       "  </thead>\n",
       "  <tbody>\n",
       "    <tr>\n",
       "      <th>0</th>\n",
       "      <td>Alimentar</td>\n",
       "      <td>14.0</td>\n",
       "      <td>NaN</td>\n",
       "      <td>NaN</td>\n",
       "      <td>1</td>\n",
       "      <td>58.08</td>\n",
       "    </tr>\n",
       "    <tr>\n",
       "      <th>1</th>\n",
       "      <td>Cara Preta</td>\n",
       "      <td>7.0</td>\n",
       "      <td>14.0</td>\n",
       "      <td>NaN</td>\n",
       "      <td>2</td>\n",
       "      <td>232.32</td>\n",
       "    </tr>\n",
       "    <tr>\n",
       "      <th>2</th>\n",
       "      <td>Ester de Lima</td>\n",
       "      <td>7.0</td>\n",
       "      <td>14.0</td>\n",
       "      <td>NaN</td>\n",
       "      <td>2</td>\n",
       "      <td>58.08</td>\n",
       "    </tr>\n",
       "    <tr>\n",
       "      <th>3</th>\n",
       "      <td>Estância 92</td>\n",
       "      <td>14.0</td>\n",
       "      <td>21.0</td>\n",
       "      <td>28.0</td>\n",
       "      <td>3</td>\n",
       "      <td>116.16</td>\n",
       "    </tr>\n",
       "    <tr>\n",
       "      <th>4</th>\n",
       "      <td>Jerônimos</td>\n",
       "      <td>7.0</td>\n",
       "      <td>14.0</td>\n",
       "      <td>NaN</td>\n",
       "      <td>2</td>\n",
       "      <td>116.16</td>\n",
       "    </tr>\n",
       "    <tr>\n",
       "      <th>5</th>\n",
       "      <td>Porcão</td>\n",
       "      <td>7.0</td>\n",
       "      <td>14.0</td>\n",
       "      <td>NaN</td>\n",
       "      <td>2</td>\n",
       "      <td>58.08</td>\n",
       "    </tr>\n",
       "    <tr>\n",
       "      <th>6</th>\n",
       "      <td>Porcão</td>\n",
       "      <td>7.0</td>\n",
       "      <td>14.0</td>\n",
       "      <td>NaN</td>\n",
       "      <td>2</td>\n",
       "      <td>58.08</td>\n",
       "    </tr>\n",
       "    <tr>\n",
       "      <th>7</th>\n",
       "      <td>Minerva</td>\n",
       "      <td>14.0</td>\n",
       "      <td>21.0</td>\n",
       "      <td>28.0</td>\n",
       "      <td>3</td>\n",
       "      <td>174.24</td>\n",
       "    </tr>\n",
       "    <tr>\n",
       "      <th>8</th>\n",
       "      <td>Recheados Brasil</td>\n",
       "      <td>7.0</td>\n",
       "      <td>14.0</td>\n",
       "      <td>NaN</td>\n",
       "      <td>2</td>\n",
       "      <td>116.16</td>\n",
       "    </tr>\n",
       "  </tbody>\n",
       "</table>\n",
       "</div>"
      ],
      "text/plain": [
       "              marca     1     2     3  n_parcelas   total\n",
       "0         Alimentar  14.0   NaN   NaN           1   58.08\n",
       "1        Cara Preta   7.0  14.0   NaN           2  232.32\n",
       "2     Ester de Lima   7.0  14.0   NaN           2   58.08\n",
       "3       Estância 92  14.0  21.0  28.0           3  116.16\n",
       "4         Jerônimos   7.0  14.0   NaN           2  116.16\n",
       "5            Porcão   7.0  14.0   NaN           2   58.08\n",
       "6            Porcão   7.0  14.0   NaN           2   58.08\n",
       "7           Minerva  14.0  21.0  28.0           3  174.24\n",
       "8  Recheados Brasil   7.0  14.0   NaN           2  116.16"
      ]
     },
     "execution_count": 610,
     "metadata": {},
     "output_type": "execute_result"
    }
   ],
   "source": [
    "# prazos\n",
    "prazos = pd.read_csv('prazos.csv')\n",
    "prazos.columns = ['marca',1,2,3]\n",
    "prazos['n_parcelas'] = 3 - prazos.T.isna().sum()\n",
    "prazos = prazos.merge(pedido)\n",
    "\n",
    "prazos"
   ]
  },
  {
   "cell_type": "code",
   "execution_count": 611,
   "metadata": {},
   "outputs": [
    {
     "data": {
      "text/html": [
       "<div>\n",
       "<style scoped>\n",
       "    .dataframe tbody tr th:only-of-type {\n",
       "        vertical-align: middle;\n",
       "    }\n",
       "\n",
       "    .dataframe tbody tr th {\n",
       "        vertical-align: top;\n",
       "    }\n",
       "\n",
       "    .dataframe thead th {\n",
       "        text-align: right;\n",
       "    }\n",
       "</style>\n",
       "<table border=\"1\" class=\"dataframe\">\n",
       "  <thead>\n",
       "    <tr style=\"text-align: right;\">\n",
       "      <th></th>\n",
       "      <th>marca</th>\n",
       "      <th>valor</th>\n",
       "      <th>parcela</th>\n",
       "      <th>data</th>\n",
       "    </tr>\n",
       "  </thead>\n",
       "  <tbody>\n",
       "    <tr>\n",
       "      <th>0</th>\n",
       "      <td>Alimentar</td>\n",
       "      <td>58.08</td>\n",
       "      <td>1</td>\n",
       "      <td>2022-06-12 18:26:39.853966</td>\n",
       "    </tr>\n",
       "    <tr>\n",
       "      <th>1</th>\n",
       "      <td>Cara Preta</td>\n",
       "      <td>116.16</td>\n",
       "      <td>1</td>\n",
       "      <td>2022-06-05 18:26:39.853966</td>\n",
       "    </tr>\n",
       "    <tr>\n",
       "      <th>2</th>\n",
       "      <td>Ester de Lima</td>\n",
       "      <td>29.04</td>\n",
       "      <td>1</td>\n",
       "      <td>2022-06-05 18:26:39.853966</td>\n",
       "    </tr>\n",
       "    <tr>\n",
       "      <th>3</th>\n",
       "      <td>Estância 92</td>\n",
       "      <td>38.72</td>\n",
       "      <td>1</td>\n",
       "      <td>2022-06-12 18:26:39.853966</td>\n",
       "    </tr>\n",
       "    <tr>\n",
       "      <th>4</th>\n",
       "      <td>Jerônimos</td>\n",
       "      <td>58.08</td>\n",
       "      <td>1</td>\n",
       "      <td>2022-06-05 18:26:39.853966</td>\n",
       "    </tr>\n",
       "    <tr>\n",
       "      <th>5</th>\n",
       "      <td>Porcão</td>\n",
       "      <td>29.04</td>\n",
       "      <td>1</td>\n",
       "      <td>2022-06-05 18:26:39.853966</td>\n",
       "    </tr>\n",
       "    <tr>\n",
       "      <th>6</th>\n",
       "      <td>Porcão</td>\n",
       "      <td>29.04</td>\n",
       "      <td>1</td>\n",
       "      <td>2022-06-05 18:26:39.853966</td>\n",
       "    </tr>\n",
       "    <tr>\n",
       "      <th>7</th>\n",
       "      <td>Minerva</td>\n",
       "      <td>58.08</td>\n",
       "      <td>1</td>\n",
       "      <td>2022-06-12 18:26:39.853966</td>\n",
       "    </tr>\n",
       "    <tr>\n",
       "      <th>8</th>\n",
       "      <td>Recheados Brasil</td>\n",
       "      <td>58.08</td>\n",
       "      <td>1</td>\n",
       "      <td>2022-06-05 18:26:39.853966</td>\n",
       "    </tr>\n",
       "    <tr>\n",
       "      <th>10</th>\n",
       "      <td>Cara Preta</td>\n",
       "      <td>116.16</td>\n",
       "      <td>2</td>\n",
       "      <td>2022-06-12 18:26:39.854961</td>\n",
       "    </tr>\n",
       "    <tr>\n",
       "      <th>11</th>\n",
       "      <td>Ester de Lima</td>\n",
       "      <td>29.04</td>\n",
       "      <td>2</td>\n",
       "      <td>2022-06-12 18:26:39.854961</td>\n",
       "    </tr>\n",
       "    <tr>\n",
       "      <th>12</th>\n",
       "      <td>Estância 92</td>\n",
       "      <td>38.72</td>\n",
       "      <td>2</td>\n",
       "      <td>2022-06-19 18:26:39.854961</td>\n",
       "    </tr>\n",
       "    <tr>\n",
       "      <th>13</th>\n",
       "      <td>Jerônimos</td>\n",
       "      <td>58.08</td>\n",
       "      <td>2</td>\n",
       "      <td>2022-06-12 18:26:39.854961</td>\n",
       "    </tr>\n",
       "    <tr>\n",
       "      <th>14</th>\n",
       "      <td>Porcão</td>\n",
       "      <td>29.04</td>\n",
       "      <td>2</td>\n",
       "      <td>2022-06-12 18:26:39.854961</td>\n",
       "    </tr>\n",
       "    <tr>\n",
       "      <th>15</th>\n",
       "      <td>Porcão</td>\n",
       "      <td>29.04</td>\n",
       "      <td>2</td>\n",
       "      <td>2022-06-12 18:26:39.854961</td>\n",
       "    </tr>\n",
       "    <tr>\n",
       "      <th>16</th>\n",
       "      <td>Minerva</td>\n",
       "      <td>58.08</td>\n",
       "      <td>2</td>\n",
       "      <td>2022-06-19 18:26:39.854961</td>\n",
       "    </tr>\n",
       "    <tr>\n",
       "      <th>17</th>\n",
       "      <td>Recheados Brasil</td>\n",
       "      <td>58.08</td>\n",
       "      <td>2</td>\n",
       "      <td>2022-06-12 18:26:39.854961</td>\n",
       "    </tr>\n",
       "    <tr>\n",
       "      <th>21</th>\n",
       "      <td>Estância 92</td>\n",
       "      <td>38.72</td>\n",
       "      <td>3</td>\n",
       "      <td>2022-06-26 18:26:39.854961</td>\n",
       "    </tr>\n",
       "    <tr>\n",
       "      <th>25</th>\n",
       "      <td>Minerva</td>\n",
       "      <td>58.08</td>\n",
       "      <td>3</td>\n",
       "      <td>2022-06-26 18:26:39.854961</td>\n",
       "    </tr>\n",
       "  </tbody>\n",
       "</table>\n",
       "</div>"
      ],
      "text/plain": [
       "               marca   valor parcela                       data\n",
       "0          Alimentar   58.08       1 2022-06-12 18:26:39.853966\n",
       "1         Cara Preta  116.16       1 2022-06-05 18:26:39.853966\n",
       "2      Ester de Lima   29.04       1 2022-06-05 18:26:39.853966\n",
       "3        Estância 92   38.72       1 2022-06-12 18:26:39.853966\n",
       "4          Jerônimos   58.08       1 2022-06-05 18:26:39.853966\n",
       "5             Porcão   29.04       1 2022-06-05 18:26:39.853966\n",
       "6             Porcão   29.04       1 2022-06-05 18:26:39.853966\n",
       "7            Minerva   58.08       1 2022-06-12 18:26:39.853966\n",
       "8   Recheados Brasil   58.08       1 2022-06-05 18:26:39.853966\n",
       "10        Cara Preta  116.16       2 2022-06-12 18:26:39.854961\n",
       "11     Ester de Lima   29.04       2 2022-06-12 18:26:39.854961\n",
       "12       Estância 92   38.72       2 2022-06-19 18:26:39.854961\n",
       "13         Jerônimos   58.08       2 2022-06-12 18:26:39.854961\n",
       "14            Porcão   29.04       2 2022-06-12 18:26:39.854961\n",
       "15            Porcão   29.04       2 2022-06-12 18:26:39.854961\n",
       "16           Minerva   58.08       2 2022-06-19 18:26:39.854961\n",
       "17  Recheados Brasil   58.08       2 2022-06-12 18:26:39.854961\n",
       "21       Estância 92   38.72       3 2022-06-26 18:26:39.854961\n",
       "25           Minerva   58.08       3 2022-06-26 18:26:39.854961"
      ]
     },
     "execution_count": 611,
     "metadata": {},
     "output_type": "execute_result"
    }
   ],
   "source": [
    "# agenda\n",
    "agenda = prazos.copy()\n",
    "agenda\n",
    "for parcela in [1,2,3]:\n",
    "    agenda[parcela] = [datetime.today() + timedelta(days=x) if x > 0 else None for x in prazos[parcela]]\n",
    "agenda['valor'] = agenda['total']/agenda['n_parcelas']\n",
    "agenda = agenda.melt(id_vars=['marca', 'valor'], value_vars=[1,2,3], value_name='data', var_name='parcela').dropna()\n",
    "agenda"
   ]
  },
  {
   "cell_type": "code",
   "execution_count": 612,
   "metadata": {},
   "outputs": [
    {
     "data": {
      "text/html": [
       "<div>\n",
       "<style scoped>\n",
       "    .dataframe tbody tr th:only-of-type {\n",
       "        vertical-align: middle;\n",
       "    }\n",
       "\n",
       "    .dataframe tbody tr th {\n",
       "        vertical-align: top;\n",
       "    }\n",
       "\n",
       "    .dataframe thead th {\n",
       "        text-align: right;\n",
       "    }\n",
       "</style>\n",
       "<table border=\"1\" class=\"dataframe\">\n",
       "  <thead>\n",
       "    <tr style=\"text-align: right;\">\n",
       "      <th></th>\n",
       "      <th>data</th>\n",
       "      <th>valor</th>\n",
       "    </tr>\n",
       "  </thead>\n",
       "  <tbody>\n",
       "    <tr>\n",
       "      <th>0</th>\n",
       "      <td>05/06</td>\n",
       "      <td>319.44</td>\n",
       "    </tr>\n",
       "    <tr>\n",
       "      <th>1</th>\n",
       "      <td>12/06</td>\n",
       "      <td>474.32</td>\n",
       "    </tr>\n",
       "    <tr>\n",
       "      <th>2</th>\n",
       "      <td>19/06</td>\n",
       "      <td>96.80</td>\n",
       "    </tr>\n",
       "    <tr>\n",
       "      <th>3</th>\n",
       "      <td>26/06</td>\n",
       "      <td>96.80</td>\n",
       "    </tr>\n",
       "  </tbody>\n",
       "</table>\n",
       "</div>"
      ],
      "text/plain": [
       "    data   valor\n",
       "0  05/06  319.44\n",
       "1  12/06  474.32\n",
       "2  19/06   96.80\n",
       "3  26/06   96.80"
      ]
     },
     "execution_count": 612,
     "metadata": {},
     "output_type": "execute_result"
    }
   ],
   "source": [
    "# peso\n",
    "peso = agenda.copy()\n",
    "peso.index = peso.set_index('data').index.strftime('%d/%m')\n",
    "peso = pd.pivot_table(agenda, index=peso.index, aggfunc='sum').reset_index()\n",
    "peso\n"
   ]
  },
  {
   "cell_type": "markdown",
   "metadata": {},
   "source": [
    "## Situação Atual"
   ]
  },
  {
   "cell_type": "code",
   "execution_count": 613,
   "metadata": {},
   "outputs": [],
   "source": [
    "# contas\n",
    "vendas = list()\n",
    "data = {\n",
    "    'formato': 'json',\n",
    "    'token': '2b6fc7102240cedcc9166c43921ea73eea82b876',\n",
    "    'dataInicial': two_months_ago.strftime('%d/%m/%Y'),\n",
    "    'dataFinal': datetime.today().strftime('%d/%m/%Y'),\n",
    "    'pagina': 1\n",
    "}\n",
    "while True:\n",
    "    try:\n",
    "\n",
    "        url = 'https://api.tiny.com.br/api2/pedidos.pesquisa.php'\n",
    "        vendas += [x['pedido'] for x in requests.post(url, data).json()['retorno']['pedidos']]\n",
    "        data['pagina'] += 1\n",
    "    except:\n",
    "        break\n",
    "vendas = pd.DataFrame(vendas)\n"
   ]
  },
  {
   "cell_type": "code",
   "execution_count": null,
   "metadata": {},
   "outputs": [
    {
     "data": {
      "text/plain": [
       "3997.358"
      ]
     },
     "execution_count": 605,
     "metadata": {},
     "output_type": "execute_result"
    }
   ],
   "source": [
    "# faturamento diário\n",
    "faturamento_estimado = vendas['valor'].sum()/30\n",
    "faturamento_estimado"
   ]
  },
  {
   "cell_type": "code",
   "execution_count": null,
   "metadata": {},
   "outputs": [
    {
     "data": {
      "text/html": [
       "<div>\n",
       "<style scoped>\n",
       "    .dataframe tbody tr th:only-of-type {\n",
       "        vertical-align: middle;\n",
       "    }\n",
       "\n",
       "    .dataframe tbody tr th {\n",
       "        vertical-align: top;\n",
       "    }\n",
       "\n",
       "    .dataframe thead th {\n",
       "        text-align: right;\n",
       "    }\n",
       "</style>\n",
       "<table border=\"1\" class=\"dataframe\">\n",
       "  <thead>\n",
       "    <tr style=\"text-align: right;\">\n",
       "      <th></th>\n",
       "    </tr>\n",
       "  </thead>\n",
       "  <tbody>\n",
       "  </tbody>\n",
       "</table>\n",
       "</div>"
      ],
      "text/plain": [
       "Empty DataFrame\n",
       "Columns: []\n",
       "Index: []"
      ]
     },
     "execution_count": 595,
     "metadata": {},
     "output_type": "execute_result"
    }
   ],
   "source": [
    "# contas\n",
    "contas = list()\n",
    "data = {\n",
    "    'formato': 'json',\n",
    "    'token': '2b6fc7102240cedcc9166c43921ea73eea82b876',\n",
    "    'data_ini_vencimento': datetime.today().strftime('%d/%m/%Y'),\n",
    "    'data_fim_vencimento': two_months_foward.strftime('%d/%m/%Y'),\n",
    "    'pagina': 1\n",
    "}\n",
    "while True:\n",
    "    try:\n",
    "        url = 'https://api.tiny.com.br/api2/contas.pagar.pesquisa.php'\n",
    "        contas += [x['conta'] for x in requests.post(url, data).json()['retorno']['contas']]\n",
    "        data['pagina'] += 1\n",
    "    except:\n",
    "        break\n",
    "contas = pd.DataFrame(contas)\n",
    "contas"
   ]
  },
  {
   "cell_type": "markdown",
   "metadata": {},
   "source": [
    "## Plotagem"
   ]
  },
  {
   "cell_type": "code",
   "execution_count": null,
   "metadata": {},
   "outputs": [
    {
     "data": {
      "text/plain": [
       "Text(0.5, 1.0, 'Compras')"
      ]
     },
     "execution_count": 589,
     "metadata": {},
     "output_type": "execute_result"
    },
    {
     "data": {
      "image/png": "[encoded data removed]",
      "text/plain": [
       "<Figure size 432x288 with 1 Axes>"
      ]
     },
     "metadata": {
      "needs_background": "light"
     },
     "output_type": "display_data"
    }
   ],
   "source": [
    "# compras\n",
    "x = peso['data']\n",
    "y = peso['valor']/5\n",
    "\n",
    "plt.bar(x, y)\n",
    "plt.title('Compras')"
   ]
  },
  {
   "cell_type": "code",
   "execution_count": null,
   "metadata": {},
   "outputs": [
    {
     "data": {
      "text/plain": [
       "<BarContainer object of 4 artists>"
      ]
     },
     "execution_count": 590,
     "metadata": {},
     "output_type": "execute_result"
    },
    {
     "data": {
      "image/png": "[encoded data removed]",
      "text/plain": [
       "<Figure size 432x288 with 1 Axes>"
      ]
     },
     "metadata": {
      "needs_background": "light"
     },
     "output_type": "display_data"
    }
   ],
   "source": [
    "# faturamento\n",
    "y = faturamento_estimado\n",
    "x = peso['data']\n",
    "\n",
    "plt.bar(x, y)"
   ]
  }
 ],
 "metadata": {
  "interpreter": {
   "hash": "ad2bdc8ecc057115af97d19610ffacc2b4e99fae6737bb82f5d7fb13d2f2c186"
  },
  "kernelspec": {
   "display_name": "Python 3.8.8 ('base')",
   "language": "python",
   "name": "python3"
  },
  "language_info": {
   "codemirror_mode": {
    "name": "ipython",
    "version": 3
   },
   "file_extension": ".py",
   "mimetype": "text/x-python",
   "name": "python",
   "nbconvert_exporter": "python",
   "pygments_lexer": "ipython3",
   "version": "3.8.8"
  },
  "orig_nbformat": 4
 },
 "nbformat": 4,
 "nbformat_minor": 2
}
