{
 "cells": [
  {
   "cell_type": "markdown",
   "metadata": {},
   "source": [
    "# Feeding\n",
    "retornar json 'produto', 'fornecedor', 'qtd em estoque', 'qtd mínima', 'situacao'"
   ]
  },
  {
   "cell_type": "code",
   "execution_count": 8,
   "metadata": {},
   "outputs": [],
   "source": [
    "import pandas as pd\n",
    "import numpy as np\n",
    "from datetime import datetime, timedelta, date\n",
    "import requests, os, json\n",
    "from time import sleep"
   ]
  },
  {
   "cell_type": "code",
   "execution_count": 2,
   "metadata": {},
   "outputs": [],
   "source": [
    "def dmy(date):\n",
    "  return date.strftime('%d/%m/%Y')\n",
    "\n",
    "def rdmy(date):\n",
    "  return datetime.strptime(date, '%d/%m/%Y')"
   ]
  },
  {
   "cell_type": "code",
   "execution_count": 54,
   "metadata": {},
   "outputs": [],
   "source": [
    "# fazer requisição dos ids de produtos\n",
    "produtos = list()\n",
    "data = {'formato': 'json',\n",
    "        'token': '2b6fc7102240cedcc9166c43921ea73eea82b876',\n",
    "        'pesquisa': '',\n",
    "        'pagina': 1}\n",
    "while True:\n",
    "  session = requests.post(url='https://api.tiny.com.br/api2/produtos.pesquisa.php', data=data).json()\n",
    "  data['pagina'] += 1\n",
    "  try:\n",
    "    produtos += [x['produto'] for x in session['retorno']['produtos']]\n",
    "  except:\n",
    "    break\n",
    "produtos = pd.DataFrame(produtos)\n",
    "produtos['estoque'] = ''\n",
    "produtos.set_index('id', inplace=True)\n",
    "produtos.drop(['codigo', 'preco', 'preco_promocional', 'gtin', 'tipoVariacao', 'localizacao', 'preco_custo', 'preco_custo_medio', 'situacao'], axis=1, inplace=True)\n"
   ]
  },
  {
   "cell_type": "code",
   "execution_count": 55,
   "metadata": {},
   "outputs": [
    {
     "data": {
      "text/html": [
       "<div>\n",
       "<style scoped>\n",
       "    .dataframe tbody tr th:only-of-type {\n",
       "        vertical-align: middle;\n",
       "    }\n",
       "\n",
       "    .dataframe tbody tr th {\n",
       "        vertical-align: top;\n",
       "    }\n",
       "\n",
       "    .dataframe thead th {\n",
       "        text-align: right;\n",
       "    }\n",
       "</style>\n",
       "<table border=\"1\" class=\"dataframe\">\n",
       "  <thead>\n",
       "    <tr style=\"text-align: right;\">\n",
       "      <th></th>\n",
       "      <th>nome</th>\n",
       "      <th>unidade</th>\n",
       "      <th>estoque</th>\n",
       "    </tr>\n",
       "    <tr>\n",
       "      <th>id</th>\n",
       "      <th></th>\n",
       "      <th></th>\n",
       "      <th></th>\n",
       "    </tr>\n",
       "  </thead>\n",
       "  <tbody>\n",
       "    <tr>\n",
       "      <th>648086180</th>\n",
       "      <td>ADICIONAIS EVENTO</td>\n",
       "      <td>un</td>\n",
       "      <td></td>\n",
       "    </tr>\n",
       "    <tr>\n",
       "      <th>623449734</th>\n",
       "      <td>ALCATRA COM QUEIJO</td>\n",
       "      <td>kg</td>\n",
       "      <td></td>\n",
       "    </tr>\n",
       "    <tr>\n",
       "      <th>623449795</th>\n",
       "      <td>ALMÔNDEGA BACON</td>\n",
       "      <td>kg</td>\n",
       "      <td></td>\n",
       "    </tr>\n",
       "    <tr>\n",
       "      <th>623449782</th>\n",
       "      <td>ALMÔNDEGA QUEIJO</td>\n",
       "      <td>kg</td>\n",
       "      <td></td>\n",
       "    </tr>\n",
       "    <tr>\n",
       "      <th>778208483</th>\n",
       "      <td>ANCHO ALIMENTAR</td>\n",
       "      <td>KG</td>\n",
       "      <td></td>\n",
       "    </tr>\n",
       "    <tr>\n",
       "      <th>...</th>\n",
       "      <td>...</td>\n",
       "      <td>...</td>\n",
       "      <td>...</td>\n",
       "    </tr>\n",
       "    <tr>\n",
       "      <th>769175229</th>\n",
       "      <td>TULIPA</td>\n",
       "      <td>PÇ</td>\n",
       "      <td></td>\n",
       "    </tr>\n",
       "    <tr>\n",
       "      <th>623450804</th>\n",
       "      <td>WALS LAGOINHA (600ml)</td>\n",
       "      <td>Un</td>\n",
       "      <td></td>\n",
       "    </tr>\n",
       "    <tr>\n",
       "      <th>623450819</th>\n",
       "      <td>WALS SESSION CITRA (300ml)</td>\n",
       "      <td>Un</td>\n",
       "      <td></td>\n",
       "    </tr>\n",
       "    <tr>\n",
       "      <th>623450836</th>\n",
       "      <td>WALS VERANO (300ml)</td>\n",
       "      <td>Un</td>\n",
       "      <td></td>\n",
       "    </tr>\n",
       "    <tr>\n",
       "      <th>623450853</th>\n",
       "      <td>WALS X WALS (600ml)</td>\n",
       "      <td>Un</td>\n",
       "      <td></td>\n",
       "    </tr>\n",
       "  </tbody>\n",
       "</table>\n",
       "<p>153 rows × 3 columns</p>\n",
       "</div>"
      ],
      "text/plain": [
       "                                 nome unidade estoque\n",
       "id                                                   \n",
       "648086180           ADICIONAIS EVENTO      un        \n",
       "623449734          ALCATRA COM QUEIJO      kg        \n",
       "623449795             ALMÔNDEGA BACON      kg        \n",
       "623449782            ALMÔNDEGA QUEIJO      kg        \n",
       "778208483             ANCHO ALIMENTAR      KG        \n",
       "...                               ...     ...     ...\n",
       "769175229                      TULIPA      PÇ        \n",
       "623450804       WALS LAGOINHA (600ml)      Un        \n",
       "623450819  WALS SESSION CITRA (300ml)      Un        \n",
       "623450836         WALS VERANO (300ml)      Un        \n",
       "623450853         WALS X WALS (600ml)      Un        \n",
       "\n",
       "[153 rows x 3 columns]"
      ]
     },
     "execution_count": 55,
     "metadata": {},
     "output_type": "execute_result"
    }
   ],
   "source": [
    "produtos"
   ]
  },
  {
   "cell_type": "code",
   "execution_count": 56,
   "metadata": {},
   "outputs": [],
   "source": [
    "# obter estoque para cada produto\n",
    "for id in produtos.index:\n",
    "    data = {\n",
    "        'formato': 'json',\n",
    "        'token': '2b6fc7102240cedcc9166c43921ea73eea82b876',\n",
    "        'id': id\n",
    "    }\n",
    "    session = requests.post('https://api.tiny.com.br/api2/produto.obter.estoque.php', data=data).json()['retorno']\n",
    "    try:\n",
    "        produtos['estoque'].loc[id] = session['produto']['saldo']\n",
    "    except:\n",
    "        break#"
   ]
  },
  {
   "cell_type": "code",
   "execution_count": 57,
   "metadata": {},
   "outputs": [],
   "source": [
    "produtos_ = produtos.copy()"
   ]
  },
  {
   "cell_type": "code",
   "execution_count": null,
   "metadata": {},
   "outputs": [],
   "source": []
  },
  {
   "cell_type": "code",
   "execution_count": 2,
   "metadata": {},
   "outputs": [
    {
     "ename": "NameError",
     "evalue": "name 'produtos_' is not defined",
     "output_type": "error",
     "traceback": [
      "\u001b[1;31m---------------------------------------------------------------------------\u001b[0m",
      "\u001b[1;31mNameError\u001b[0m                                 Traceback (most recent call last)",
      "\u001b[1;32m<ipython-input-2-eaf406c0b957>\u001b[0m in \u001b[0;36m<module>\u001b[1;34m\u001b[0m\n\u001b[1;32m----> 1\u001b[1;33m \u001b[0mprodutos_\u001b[0m\u001b[1;33m.\u001b[0m\u001b[0mto_dict\u001b[0m\u001b[1;33m(\u001b[0m\u001b[0morient\u001b[0m\u001b[1;33m=\u001b[0m\u001b[1;34m'records'\u001b[0m\u001b[1;33m)\u001b[0m\u001b[1;33m\u001b[0m\u001b[1;33m\u001b[0m\u001b[0m\n\u001b[0m",
      "\u001b[1;31mNameError\u001b[0m: name 'produtos_' is not defined"
     ]
    }
   ],
   "source": [
    "produtos.to_dict(orient='records')"
   ]
  }
 ],
 "metadata": {
  "interpreter": {
   "hash": "ad2bdc8ecc057115af97d19610ffacc2b4e99fae6737bb82f5d7fb13d2f2c186"
  },
  "kernelspec": {
   "display_name": "Python 3.8.8 ('base')",
   "language": "python",
   "name": "python3"
  },
  "language_info": {
   "codemirror_mode": {
    "name": "ipython",
    "version": 3
   },
   "file_extension": ".py",
   "mimetype": "text/x-python",
   "name": "python",
   "nbconvert_exporter": "python",
   "pygments_lexer": "ipython3",
   "version": "3.8.8"
  },
  "orig_nbformat": 4
 },
 "nbformat": 4,
 "nbformat_minor": 2
}
